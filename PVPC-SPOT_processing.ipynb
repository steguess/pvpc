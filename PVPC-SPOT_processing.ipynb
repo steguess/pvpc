{
 "cells": [
  {
   "cell_type": "code",
   "execution_count": 1,
   "id": "7321fd51",
   "metadata": {},
   "outputs": [
    {
     "data": {
      "text/html": [
       "<style>.container { width:100% !important; }</style>"
      ],
      "text/plain": [
       "<IPython.core.display.HTML object>"
      ]
     },
     "metadata": {},
     "output_type": "display_data"
    }
   ],
   "source": [
    "from IPython.display import display, HTML\n",
    "display(HTML(\"<style>.container { width:100% !important; }</style>\"))"
   ]
  },
  {
   "cell_type": "markdown",
   "id": "eb0d3f93",
   "metadata": {},
   "source": [
    "<img width=\"500\" style=\"float:center\" \n",
    "     src=\"GroupC.png\" />"
   ]
  },
  {
   "cell_type": "markdown",
   "id": "0f6cc2c8",
   "metadata": {},
   "source": [
    "# GROUP C \n",
    "## Analysis of PVPC - market signals for home battery storage\n"
   ]
  },
  {
   "cell_type": "markdown",
   "id": "709d0fe0",
   "metadata": {},
   "source": [
    "# Sections\n",
    "* [Description - Analysis of PVPC](#0)\n",
    "* [1. Setup](#1)\n",
    "  * [1.1 Start Hadoop](#1.1)  \n",
    "  * [1.2 Search for Spark Installation](#1.2)\n",
    "  * [1.3 Create SparkSession](#1.3)\n",
    "* [2. Processing of Raw Data: data curation](#2)\n",
    "  * [2.1 Spark data abstraction (DataFrame) for the json files](#2.1)\n",
    "  * [2.2 Create a new DataFrame containing needed information](#2.2)\n",
    "  * [2.3 Separate the DataFrame into two](#2.3)  \n",
    "  * [2.4 DataFrames combination (join) to enrich data](#2.4)\n",
    "* [3.Data set meta analysis](#3) \n",
    "* [4.Columns groups basic profiling to better understand our data set](#4) \n",
    "* [5.Answers to business questions](#5)\n",
    "  * [5.1 New features for analysis: Daily Max, Min, Avg and Spread](#5.1)\n",
    "  * [5.2 Hourly prices behaviour analysis](#5.2)\n",
    "  * [5.3 Ratio of Daily Spreads](#5.3)\n",
    "  * [5.4 Top 5 Top Days in extrem Spread](#5.4)"
   ]
  },
  {
   "cell_type": "markdown",
   "id": "54eac2a9",
   "metadata": {},
   "source": [
    "<a id='0'></a>\n",
    "# Description of the PVPC tariff\n",
    "\n",
    "PVPC is a regulated tariff for households. This tariff is calculated adding several costs to the wholesale spot (hourly) prices and hence it is a variable tariff. However these added costs are variable as well, and hence, the daily pattern of PVPC prices is not exactly the same than the SPOT prices. \n",
    "\n",
    "In the current context of volatile electricity prices, we are interested in obtaining hourly prices of electricity and studying the daily spread (max price-min price of the day) for a household with the regulated tariff in Spain. The evolution of this spread is a key parameter for the analysis of profitability of investing in distributed electricity storage.  \n",
    "\n",
    "We finalize the analysis with the calculation of a ratio of days in order to categorize the different spreads for both PVPC and SPOT prices in different intervals.   \n",
    "\n",
    "The regulated households tariff (voluntary price for the small consumers) is called PVPC and is linked to the wholesale market price and published by REE (Spanish Transport System Operator)\n",
    "\n",
    "SOURCE OF DATA : API from REE (Spanish Transport System Operator) called APIDATOS (https://www.ree.es/es/apidatos)"
   ]
  },
  {
   "cell_type": "markdown",
   "id": "2eb8382a",
   "metadata": {},
   "source": [
    "<a id='1'></a>\n",
    "# 1. Setup\n",
    "\n",
    "Since we are going to process data stored from HDFS let's start the service"
   ]
  },
  {
   "cell_type": "markdown",
   "id": "417f90ea",
   "metadata": {},
   "source": [
    "<a id='1.1'></a>\n",
    "## 1.1 Start Hadoop\n",
    "\n",
    "Start Hadoop\n",
    "\n",
    "Open a terminal and execute\n",
    "```sh\n",
    "hadoop-start.sh\n",
    "```"
   ]
  },
  {
   "cell_type": "markdown",
   "id": "f021a488",
   "metadata": {},
   "source": [
    "<a id='1.2'></a>\n",
    "## 1.2 Search for Spark Installation "
   ]
  },
  {
   "cell_type": "code",
   "execution_count": 2,
   "id": "8fcb6ac4",
   "metadata": {},
   "outputs": [],
   "source": [
    "import findspark\n",
    "findspark.init()"
   ]
  },
  {
   "cell_type": "markdown",
   "id": "246acd04",
   "metadata": {},
   "source": [
    "Pandas setup to display contents in a better way:"
   ]
  },
  {
   "cell_type": "code",
   "execution_count": 3,
   "id": "1a3f96ac",
   "metadata": {},
   "outputs": [],
   "source": [
    "import pandas as pd\n",
    "pd.set_option('display.max_colwidth', None)"
   ]
  },
  {
   "cell_type": "markdown",
   "id": "b1962fcb",
   "metadata": {},
   "source": [
    "<a id='1.3'></a>\n",
    "## 1.3 Create SparkSession\n",
    "Give the Spark job a name and check the Spark version you're running to be sure that all the functions you'll use will be available and will behave as you expect."
   ]
  },
  {
   "cell_type": "code",
   "execution_count": 4,
   "id": "f4a71f0f",
   "metadata": {
    "scrolled": true
   },
   "outputs": [
    {
     "name": "stderr",
     "output_type": "stream",
     "text": [
      "WARNING: An illegal reflective access operation has occurred\n",
      "WARNING: Illegal reflective access by org.apache.spark.unsafe.Platform (file:/opt/spark3/jars/spark-unsafe_2.12-3.2.1.jar) to constructor java.nio.DirectByteBuffer(long,int)\n",
      "WARNING: Please consider reporting this to the maintainers of org.apache.spark.unsafe.Platform\n",
      "WARNING: Use --illegal-access=warn to enable warnings of further illegal reflective access operations\n",
      "WARNING: All illegal access operations will be denied in a future release\n",
      "Setting default log level to \"WARN\".\n",
      "To adjust logging level use sc.setLogLevel(newLevel). For SparkR, use setLogLevel(newLevel).\n"
     ]
    },
    {
     "name": "stdout",
     "output_type": "stream",
     "text": [
      "This cluster relies on Spark '3.2.1'\n"
     ]
    }
   ],
   "source": [
    "from pyspark.sql.session import SparkSession\n",
    "spark = SparkSession.builder\\\n",
    "                    .appName(\"Spain's Electricity Consumer Regulated Price\")\\\n",
    "                    .getOrCreate()\n",
    "\n",
    "print(f\"This cluster relies on Spark '{spark.version}'\")"
   ]
  },
  {
   "cell_type": "markdown",
   "id": "9f774ec1",
   "metadata": {},
   "source": [
    "<a id='2'></a>\n",
    "# 2. Processing of Raw Data: data curation "
   ]
  },
  {
   "cell_type": "markdown",
   "id": "6763c3a4",
   "metadata": {},
   "source": [
    "<a id='2.1'></a>\n",
    "## 2.1 Spark data abstraction (DataFrame) for JSON\n",
    "We are reading from the json files and checking the schema from the json files. "
   ]
  },
  {
   "cell_type": "code",
   "execution_count": 5,
   "id": "91ac42ce",
   "metadata": {},
   "outputs": [
    {
     "name": "stderr",
     "output_type": "stream",
     "text": [
      "[Stage 2:=================================================>         (5 + 1) / 6]\r"
     ]
    },
    {
     "name": "stdout",
     "output_type": "stream",
     "text": [
      "root\n",
      " |-- attributes: struct (nullable = true)\n",
      " |    |-- color: string (nullable = true)\n",
      " |    |-- composite: boolean (nullable = true)\n",
      " |    |-- description: string (nullable = true)\n",
      " |    |-- last-update: string (nullable = true)\n",
      " |    |-- magnitude: string (nullable = true)\n",
      " |    |-- title: string (nullable = true)\n",
      " |    |-- type: string (nullable = true)\n",
      " |    |-- values: array (nullable = true)\n",
      " |    |    |-- element: struct (containsNull = true)\n",
      " |    |    |    |-- datetime: string (nullable = true)\n",
      " |    |    |    |-- percentage: double (nullable = true)\n",
      " |    |    |    |-- value: double (nullable = true)\n",
      " |-- groupId: string (nullable = true)\n",
      " |-- id: string (nullable = true)\n",
      " |-- meta: struct (nullable = true)\n",
      " |    |-- cache-control: struct (nullable = true)\n",
      " |    |    |-- cache: string (nullable = true)\n",
      " |-- type: string (nullable = true)\n",
      " |-- filename_path: string (nullable = false)\n",
      "\n"
     ]
    },
    {
     "name": "stderr",
     "output_type": "stream",
     "text": [
      "                                                                                \r"
     ]
    }
   ],
   "source": [
    "from  pyspark.sql.functions import input_file_name\n",
    "\n",
    "# DataFrame creation\n",
    "pvpcDF = spark.read.json(\"hdfs://localhost:9000/datalake/raw/REE/2022/*/*/*\")\n",
    "\n",
    "# DataFrame updated with an additional column containing the filename contributing to the data in every row.\n",
    "pvpcDF = pvpcDF.withColumn(\"filename_path\", input_file_name())\n",
    "\n",
    "# The inferred schema can be visualized using the printSchema() method - definitely semi-structured data.\n",
    "pvpcDF.printSchema()"
   ]
  },
  {
   "cell_type": "code",
   "execution_count": 6,
   "id": "7336a33a",
   "metadata": {},
   "outputs": [
    {
     "data": {
      "text/html": [
       "<div>\n",
       "<style scoped>\n",
       "    .dataframe tbody tr th:only-of-type {\n",
       "        vertical-align: middle;\n",
       "    }\n",
       "\n",
       "    .dataframe tbody tr th {\n",
       "        vertical-align: top;\n",
       "    }\n",
       "\n",
       "    .dataframe thead th {\n",
       "        text-align: right;\n",
       "    }\n",
       "</style>\n",
       "<table border=\"1\" class=\"dataframe\">\n",
       "  <thead>\n",
       "    <tr style=\"text-align: right;\">\n",
       "      <th></th>\n",
       "      <th>filename_path</th>\n",
       "    </tr>\n",
       "  </thead>\n",
       "  <tbody>\n",
       "    <tr>\n",
       "      <th>0</th>\n",
       "      <td>hdfs://localhost:9000/datalake/raw/REE/2022/06/9/2022-06-9.json</td>\n",
       "    </tr>\n",
       "    <tr>\n",
       "      <th>1</th>\n",
       "      <td>hdfs://localhost:9000/datalake/raw/REE/2022/06/8/2022-06-8.json</td>\n",
       "    </tr>\n",
       "    <tr>\n",
       "      <th>2</th>\n",
       "      <td>hdfs://localhost:9000/datalake/raw/REE/2022/06/7/2022-06-7.json</td>\n",
       "    </tr>\n",
       "    <tr>\n",
       "      <th>3</th>\n",
       "      <td>hdfs://localhost:9000/datalake/raw/REE/2022/06/6/2022-06-6.json</td>\n",
       "    </tr>\n",
       "    <tr>\n",
       "      <th>4</th>\n",
       "      <td>hdfs://localhost:9000/datalake/raw/REE/2022/06/5/2022-06-5.json</td>\n",
       "    </tr>\n",
       "    <tr>\n",
       "      <th>5</th>\n",
       "      <td>hdfs://localhost:9000/datalake/raw/REE/2022/06/4/2022-06-4.json</td>\n",
       "    </tr>\n",
       "    <tr>\n",
       "      <th>6</th>\n",
       "      <td>hdfs://localhost:9000/datalake/raw/REE/2022/06/30/2022-06-30.json</td>\n",
       "    </tr>\n",
       "    <tr>\n",
       "      <th>7</th>\n",
       "      <td>hdfs://localhost:9000/datalake/raw/REE/2022/06/3/2022-06-3.json</td>\n",
       "    </tr>\n",
       "    <tr>\n",
       "      <th>8</th>\n",
       "      <td>hdfs://localhost:9000/datalake/raw/REE/2022/06/29/2022-06-29.json</td>\n",
       "    </tr>\n",
       "    <tr>\n",
       "      <th>9</th>\n",
       "      <td>hdfs://localhost:9000/datalake/raw/REE/2022/06/28/2022-06-28.json</td>\n",
       "    </tr>\n",
       "  </tbody>\n",
       "</table>\n",
       "</div>"
      ],
      "text/plain": [
       "                                                       filename_path\n",
       "0    hdfs://localhost:9000/datalake/raw/REE/2022/06/9/2022-06-9.json\n",
       "1    hdfs://localhost:9000/datalake/raw/REE/2022/06/8/2022-06-8.json\n",
       "2    hdfs://localhost:9000/datalake/raw/REE/2022/06/7/2022-06-7.json\n",
       "3    hdfs://localhost:9000/datalake/raw/REE/2022/06/6/2022-06-6.json\n",
       "4    hdfs://localhost:9000/datalake/raw/REE/2022/06/5/2022-06-5.json\n",
       "5    hdfs://localhost:9000/datalake/raw/REE/2022/06/4/2022-06-4.json\n",
       "6  hdfs://localhost:9000/datalake/raw/REE/2022/06/30/2022-06-30.json\n",
       "7    hdfs://localhost:9000/datalake/raw/REE/2022/06/3/2022-06-3.json\n",
       "8  hdfs://localhost:9000/datalake/raw/REE/2022/06/29/2022-06-29.json\n",
       "9  hdfs://localhost:9000/datalake/raw/REE/2022/06/28/2022-06-28.json"
      ]
     },
     "execution_count": 6,
     "metadata": {},
     "output_type": "execute_result"
    }
   ],
   "source": [
    "from  pyspark.sql.functions import col\n",
    "\n",
    "pvpcDF.select(\"filename_path\")\\\n",
    "                      .distinct()\\\n",
    "                      .orderBy(col(\"filename_path\").desc())\\\n",
    "                      .limit(10)\\\n",
    "                      .toPandas()"
   ]
  },
  {
   "cell_type": "markdown",
   "id": "a5d167e8",
   "metadata": {},
   "source": [
    "Let's retrieve ***the first row to have a good sense of the data*** we're going to work with; let's calculate ***how many rows there are*** in the DataFrame as well:"
   ]
  },
  {
   "cell_type": "code",
   "execution_count": 7,
   "id": "bdea0d96",
   "metadata": {
    "scrolled": true
   },
   "outputs": [
    {
     "name": "stdout",
     "output_type": "stream",
     "text": [
      "+--------------------------------------------------------------------------------------------------------------------------------------------------------------------------------------------------------------------------------------------------------------------------------------------------------------------------------------------------------------------------------------------------------------------------------------------------------------------------------------------------------------------------------------------------------------------------------------------------------------------------------------------------------------------------------------------------------------------------------------------------------------------------------------------------------------------------------------------------------------------------------------------------------------------------------------------------------------------------------------------------------------------------------------------------------------------------------------------------------------------------------------------------------------------------------------------------------------------------------------------------------------------------------------------------------------------------------------------------------------------------------------------------------------------------------------------------------------------------------------------------------------------------------------------------------------------------------------------------------------------------------+\n",
      "|attributes                                                                                                                                                                                                                                                                                                                                                                                                                                                                                                                                                                                                                                                                                                                                                                                                                                                                                                                                                                                                                                                                                                                                                                                                                                                                                                                                                                                                                                                                                                                                                                                                                      |\n",
      "+--------------------------------------------------------------------------------------------------------------------------------------------------------------------------------------------------------------------------------------------------------------------------------------------------------------------------------------------------------------------------------------------------------------------------------------------------------------------------------------------------------------------------------------------------------------------------------------------------------------------------------------------------------------------------------------------------------------------------------------------------------------------------------------------------------------------------------------------------------------------------------------------------------------------------------------------------------------------------------------------------------------------------------------------------------------------------------------------------------------------------------------------------------------------------------------------------------------------------------------------------------------------------------------------------------------------------------------------------------------------------------------------------------------------------------------------------------------------------------------------------------------------------------------------------------------------------------------------------------------------------------+\n",
      "|{null, null, null, 2022-04-14T20:17:08.000+02:00, null, Precios mercado peninsular en tiempo real, null, null}                                                                                                                                                                                                                                                                                                                                                                                                                                                                                                                                                                                                                                                                                                                                                                                                                                                                                                                                                                                                                                                                                                                                                                                                                                                                                                                                                                                                                                                                                                                  |\n",
      "|{#ffcf09, false, null, 2022-04-14T20:17:08.000+02:00, price, PVPC (€/MWh), null, [{2022-04-15T00:00:00.000+02:00, 0.5609088308610192, 274.52}, {2022-04-15T01:00:00.000+02:00, 0.5676409587547306, 265.48}, {2022-04-15T02:00:00.000+02:00, 0.5716739130434784, 262.97}, {2022-04-15T03:00:00.000+02:00, 0.5738830103174429, 260.87}, {2022-04-15T04:00:00.000+02:00, 0.574728411177733, 259.76}, {2022-04-15T05:00:00.000+02:00, 0.574144980206373, 265.41}, {2022-04-15T06:00:00.000+02:00, 0.5703044888563356, 272.52}, {2022-04-15T07:00:00.000+02:00, 0.5656668693724621, 288.36}, {2022-04-15T08:00:00.000+02:00, 0.5897706536906508, 329.67}, {2022-04-15T09:00:00.000+02:00, 0.5812388861390676, 317.06}, {2022-04-15T10:00:00.000+02:00, 0.6223997795839648, 316.26}, {2022-04-15T11:00:00.000+02:00, 0.6301289819944598, 291.17}, {2022-04-15T12:00:00.000+02:00, 0.6301426190836886, 291.17}, {2022-04-15T13:00:00.000+02:00, 0.6322255127783262, 288.2}, {2022-04-15T14:00:00.000+02:00, 0.5961819721345546, 232.35}, {2022-04-15T15:00:00.000+02:00, 0.6031149866050323, 229.63}, {2022-04-15T16:00:00.000+02:00, 0.602905010759299, 235.35}, {2022-04-15T17:00:00.000+02:00, 0.5980858988260808, 253.72}, {2022-04-15T18:00:00.000+02:00, 0.6259460489943761, 328.34}, {2022-04-15T19:00:00.000+02:00, 0.6146706940483623, 364.26}, {2022-04-15T20:00:00.000+02:00, 0.6085557417021912, 366.88}, {2022-04-15T21:00:00.000+02:00, 0.606124989625695, 365.16}, {2022-04-15T22:00:00.000+02:00, 0.5772928927116342, 318.81}, {2022-04-15T23:00:00.000+02:00, 0.5813650589996306, 299.06}]}                           |\n",
      "|{#df4a32, false, null, 2022-04-14T13:02:51.000+02:00, price, Precio mercado spot (€/MWh), null, [{2022-04-15T00:00:00.000+02:00, 0.4390911691389809, 214.9}, {2022-04-15T01:00:00.000+02:00, 0.43235904124526925, 202.21}, {2022-04-15T02:00:00.000+02:00, 0.42832608695652175, 197.03}, {2022-04-15T03:00:00.000+02:00, 0.4261169896825571, 193.7}, {2022-04-15T04:00:00.000+02:00, 0.42527158882226695, 192.21}, {2022-04-15T05:00:00.000+02:00, 0.4258550197936271, 196.86}, {2022-04-15T06:00:00.000+02:00, 0.42969551114366433, 205.33}, {2022-04-15T07:00:00.000+02:00, 0.4343331306275379, 221.41}, {2022-04-15T08:00:00.000+02:00, 0.41022934630934915, 229.31}, {2022-04-15T09:00:00.000+02:00, 0.4187611138609324, 228.43}, {2022-04-15T10:00:00.000+02:00, 0.3776002204160353, 191.87}, {2022-04-15T11:00:00.000+02:00, 0.3698710180055401, 170.91}, {2022-04-15T12:00:00.000+02:00, 0.3698573809163114, 170.9}, {2022-04-15T13:00:00.000+02:00, 0.3677744872216738, 167.65}, {2022-04-15T14:00:00.000+02:00, 0.4038180278654453, 157.38}, {2022-04-15T15:00:00.000+02:00, 0.39688501339496773, 151.11}, {2022-04-15T16:00:00.000+02:00, 0.39709498924070086, 155.01}, {2022-04-15T17:00:00.000+02:00, 0.4019141011739192, 170.5}, {2022-04-15T18:00:00.000+02:00, 0.37405395100562394, 196.21}, {2022-04-15T19:00:00.000+02:00, 0.38532930595163767, 228.35}, {2022-04-15T20:00:00.000+02:00, 0.3914442582978088, 235.99}, {2022-04-15T21:00:00.000+02:00, 0.3938750103743049, 237.29}, {2022-04-15T22:00:00.000+02:00, 0.42270710728836575, 233.44}, {2022-04-15T23:00:00.000+02:00, 0.41863494100036935, 215.35}]}|\n",
      "+--------------------------------------------------------------------------------------------------------------------------------------------------------------------------------------------------------------------------------------------------------------------------------------------------------------------------------------------------------------------------------------------------------------------------------------------------------------------------------------------------------------------------------------------------------------------------------------------------------------------------------------------------------------------------------------------------------------------------------------------------------------------------------------------------------------------------------------------------------------------------------------------------------------------------------------------------------------------------------------------------------------------------------------------------------------------------------------------------------------------------------------------------------------------------------------------------------------------------------------------------------------------------------------------------------------------------------------------------------------------------------------------------------------------------------------------------------------------------------------------------------------------------------------------------------------------------------------------------------------------------------+\n",
      "\n"
     ]
    }
   ],
   "source": [
    "pvpcDF.limit(3).select(\"attributes\").show(3,False)"
   ]
  },
  {
   "cell_type": "code",
   "execution_count": 8,
   "id": "96600cf0",
   "metadata": {},
   "outputs": [
    {
     "name": "stdout",
     "output_type": "stream",
     "text": [
      "This DataFrame has 633\n"
     ]
    }
   ],
   "source": [
    "print(f\"This DataFrame has {pvpcDF.count()}\")"
   ]
  },
  {
   "cell_type": "markdown",
   "id": "178db449",
   "metadata": {},
   "source": [
    "We see above that there are 3 rows of different data: the header, the PVPC (24 values) and the spot market price (24 values)"
   ]
  },
  {
   "cell_type": "code",
   "execution_count": 9,
   "id": "bf4e23e0",
   "metadata": {},
   "outputs": [
    {
     "name": "stderr",
     "output_type": "stream",
     "text": [
      "                                                                                \r"
     ]
    },
    {
     "data": {
      "text/html": [
       "<div>\n",
       "<style scoped>\n",
       "    .dataframe tbody tr th:only-of-type {\n",
       "        vertical-align: middle;\n",
       "    }\n",
       "\n",
       "    .dataframe tbody tr th {\n",
       "        vertical-align: top;\n",
       "    }\n",
       "\n",
       "    .dataframe thead th {\n",
       "        text-align: right;\n",
       "    }\n",
       "</style>\n",
       "<table border=\"1\" class=\"dataframe\">\n",
       "  <thead>\n",
       "    <tr style=\"text-align: right;\">\n",
       "      <th></th>\n",
       "      <th>values</th>\n",
       "    </tr>\n",
       "  </thead>\n",
       "  <tbody>\n",
       "    <tr>\n",
       "      <th>0</th>\n",
       "      <td>[(2022-06-30T00:00:00.000+02:00, 0.6643621121603392, 275.79), (2022-06-30T01:00:00.000+02:00, 0.6703516377649326, 278.33), (2022-06-30T02:00:00.000+02:00, 0.6768656892603347, 286.7), (2022-06-30T03:00:00.000+02:00, 0.67767929089444, 294.35), (2022-06-30T04:00:00.000+02:00, 0.6775311908400429, 297.05), (2022-06-30T05:00:00.000+02:00, 0.6730153612307409, 292.23), (2022-06-30T06:00:00.000+02:00, 0.671468284053576, 292.27), (2022-06-30T07:00:00.000+02:00, 0.6552747528708079, 287.03), (2022-06-30T08:00:00.000+02:00, 0.6728886448897429, 294.16), (2022-06-30T09:00:00.000+02:00, 0.6665936633085122, 273.93), (2022-06-30T10:00:00.000+02:00, 0.6949001227541569, 311.35), (2022-06-30T11:00:00.000+02:00, 0.6952547919588593, 297.43), (2022-06-30T12:00:00.000+02:00, 0.6957844311377246, 290.49), (2022-06-30T13:00:00.000+02:00, 0.6978972253328356, 280.45), (2022-06-30T14:00:00.000+02:00, 0.6612347409613925, 226.42), (2022-06-30T15:00:00.000+02:00, 0.6689217505837275, 223.46), (2022-06-30T16:00:00.000+02:00, 0.6799579269458788, 213.33), (2022-06-30T17:00:00.000+02:00, 0.682057164707007, 214.05), (2022-06-30T18:00:00.000+02:00, 0.7272502676439101, 264.93), (2022-06-30T19:00:00.000+02:00, 0.7161453177588597, 289.38), (2022-06-30T20:00:00.000+02:00, 0.7054026718361498, 334.77), (2022-06-30T21:00:00.000+02:00, 0.6958590033533494, 356.92), (2022-06-30T22:00:00.000+02:00, 0.6650899569220373, 314.96), (2022-06-30T23:00:00.000+02:00, 0.6786357014311424, 316.76)]</td>\n",
       "    </tr>\n",
       "    <tr>\n",
       "      <th>1</th>\n",
       "      <td>[(2022-06-30T00:00:00.000+02:00, 0.33563788783966086, 139.33), (2022-06-30T01:00:00.000+02:00, 0.32964836223506744, 136.87), (2022-06-30T02:00:00.000+02:00, 0.32313431073966525, 136.87), (2022-06-30T03:00:00.000+02:00, 0.32232070910556, 140.0), (2022-06-30T04:00:00.000+02:00, 0.3224688091599571, 141.38), (2022-06-30T05:00:00.000+02:00, 0.32698463876925904, 141.98), (2022-06-30T06:00:00.000+02:00, 0.32853171594642405, 143.0), (2022-06-30T07:00:00.000+02:00, 0.34472524712919206, 151.0), (2022-06-30T08:00:00.000+02:00, 0.3271113551102571, 143.0), (2022-06-30T09:00:00.000+02:00, 0.3334063366914878, 137.01), (2022-06-30T10:00:00.000+02:00, 0.3050998772458431, 136.7), (2022-06-30T11:00:00.000+02:00, 0.30474520804114075, 130.37), (2022-06-30T12:00:00.000+02:00, 0.30421556886227547, 127.01), (2022-06-30T13:00:00.000+02:00, 0.30210277466716434, 121.4), (2022-06-30T14:00:00.000+02:00, 0.3387652590386076, 116.0), (2022-06-30T15:00:00.000+02:00, 0.3310782494162725, 110.6), (2022-06-30T16:00:00.000+02:00, 0.32004207305412125, 100.41), (2022-06-30T17:00:00.000+02:00, 0.317942835292993, 99.78), (2022-06-30T18:00:00.000+02:00, 0.2727497323560899, 99.36), (2022-06-30T19:00:00.000+02:00, 0.2838546822411404, 114.7), (2022-06-30T20:00:00.000+02:00, 0.29459732816385015, 139.81), (2022-06-30T21:00:00.000+02:00, 0.3041409966466505, 156.0), (2022-06-30T22:00:00.000+02:00, 0.3349100430779627, 158.6), (2022-06-30T23:00:00.000+02:00, 0.3213642985688577, 150.0)]</td>\n",
       "    </tr>\n",
       "  </tbody>\n",
       "</table>\n",
       "</div>"
      ],
      "text/plain": [
       "                                                                                                                                                                                                                                                                                                                                                                                                                                                                                                                                                                                                                                                                                                                                                                                                                                                                                                                                                                                                                                                                                                                                                                                                                                                                                                                                                                                                                                                                                                                values\n",
       "0  [(2022-06-30T00:00:00.000+02:00, 0.6643621121603392, 275.79), (2022-06-30T01:00:00.000+02:00, 0.6703516377649326, 278.33), (2022-06-30T02:00:00.000+02:00, 0.6768656892603347, 286.7), (2022-06-30T03:00:00.000+02:00, 0.67767929089444, 294.35), (2022-06-30T04:00:00.000+02:00, 0.6775311908400429, 297.05), (2022-06-30T05:00:00.000+02:00, 0.6730153612307409, 292.23), (2022-06-30T06:00:00.000+02:00, 0.671468284053576, 292.27), (2022-06-30T07:00:00.000+02:00, 0.6552747528708079, 287.03), (2022-06-30T08:00:00.000+02:00, 0.6728886448897429, 294.16), (2022-06-30T09:00:00.000+02:00, 0.6665936633085122, 273.93), (2022-06-30T10:00:00.000+02:00, 0.6949001227541569, 311.35), (2022-06-30T11:00:00.000+02:00, 0.6952547919588593, 297.43), (2022-06-30T12:00:00.000+02:00, 0.6957844311377246, 290.49), (2022-06-30T13:00:00.000+02:00, 0.6978972253328356, 280.45), (2022-06-30T14:00:00.000+02:00, 0.6612347409613925, 226.42), (2022-06-30T15:00:00.000+02:00, 0.6689217505837275, 223.46), (2022-06-30T16:00:00.000+02:00, 0.6799579269458788, 213.33), (2022-06-30T17:00:00.000+02:00, 0.682057164707007, 214.05), (2022-06-30T18:00:00.000+02:00, 0.7272502676439101, 264.93), (2022-06-30T19:00:00.000+02:00, 0.7161453177588597, 289.38), (2022-06-30T20:00:00.000+02:00, 0.7054026718361498, 334.77), (2022-06-30T21:00:00.000+02:00, 0.6958590033533494, 356.92), (2022-06-30T22:00:00.000+02:00, 0.6650899569220373, 314.96), (2022-06-30T23:00:00.000+02:00, 0.6786357014311424, 316.76)]\n",
       "1   [(2022-06-30T00:00:00.000+02:00, 0.33563788783966086, 139.33), (2022-06-30T01:00:00.000+02:00, 0.32964836223506744, 136.87), (2022-06-30T02:00:00.000+02:00, 0.32313431073966525, 136.87), (2022-06-30T03:00:00.000+02:00, 0.32232070910556, 140.0), (2022-06-30T04:00:00.000+02:00, 0.3224688091599571, 141.38), (2022-06-30T05:00:00.000+02:00, 0.32698463876925904, 141.98), (2022-06-30T06:00:00.000+02:00, 0.32853171594642405, 143.0), (2022-06-30T07:00:00.000+02:00, 0.34472524712919206, 151.0), (2022-06-30T08:00:00.000+02:00, 0.3271113551102571, 143.0), (2022-06-30T09:00:00.000+02:00, 0.3334063366914878, 137.01), (2022-06-30T10:00:00.000+02:00, 0.3050998772458431, 136.7), (2022-06-30T11:00:00.000+02:00, 0.30474520804114075, 130.37), (2022-06-30T12:00:00.000+02:00, 0.30421556886227547, 127.01), (2022-06-30T13:00:00.000+02:00, 0.30210277466716434, 121.4), (2022-06-30T14:00:00.000+02:00, 0.3387652590386076, 116.0), (2022-06-30T15:00:00.000+02:00, 0.3310782494162725, 110.6), (2022-06-30T16:00:00.000+02:00, 0.32004207305412125, 100.41), (2022-06-30T17:00:00.000+02:00, 0.317942835292993, 99.78), (2022-06-30T18:00:00.000+02:00, 0.2727497323560899, 99.36), (2022-06-30T19:00:00.000+02:00, 0.2838546822411404, 114.7), (2022-06-30T20:00:00.000+02:00, 0.29459732816385015, 139.81), (2022-06-30T21:00:00.000+02:00, 0.3041409966466505, 156.0), (2022-06-30T22:00:00.000+02:00, 0.3349100430779627, 158.6), (2022-06-30T23:00:00.000+02:00, 0.3213642985688577, 150.0)]"
      ]
     },
     "execution_count": 9,
     "metadata": {},
     "output_type": "execute_result"
    }
   ],
   "source": [
    "#The data we are interested in: \"datetime\" and \"value\" is contained in the array \"values\" and this one is nested inside the column \"attributes\"\n",
    "pvpcDF.select(\"attributes.values\")\\\n",
    "                      .distinct()\\\n",
    "                      .orderBy(col(\"attributes.values\").desc())\\\n",
    "                      .limit(2)\\\n",
    "                      .toPandas()"
   ]
  },
  {
   "cell_type": "markdown",
   "id": "bd6f45c0",
   "metadata": {},
   "source": [
    "We generate the following transformations: create a new column \"additional\", explode the content of the nested array \"values\" and store the data in the new column"
   ]
  },
  {
   "cell_type": "code",
   "execution_count": 10,
   "id": "55b0e9fa",
   "metadata": {},
   "outputs": [
    {
     "name": "stdout",
     "output_type": "stream",
     "text": [
      "root\n",
      " |-- attributes: struct (nullable = true)\n",
      " |    |-- color: string (nullable = true)\n",
      " |    |-- composite: boolean (nullable = true)\n",
      " |    |-- description: string (nullable = true)\n",
      " |    |-- last-update: string (nullable = true)\n",
      " |    |-- magnitude: string (nullable = true)\n",
      " |    |-- title: string (nullable = true)\n",
      " |    |-- type: string (nullable = true)\n",
      " |    |-- values: array (nullable = true)\n",
      " |    |    |-- element: struct (containsNull = true)\n",
      " |    |    |    |-- datetime: string (nullable = true)\n",
      " |    |    |    |-- percentage: double (nullable = true)\n",
      " |    |    |    |-- value: double (nullable = true)\n",
      " |-- groupId: string (nullable = true)\n",
      " |-- id: string (nullable = true)\n",
      " |-- meta: struct (nullable = true)\n",
      " |    |-- cache-control: struct (nullable = true)\n",
      " |    |    |-- cache: string (nullable = true)\n",
      " |-- type: string (nullable = true)\n",
      " |-- filename_path: string (nullable = false)\n",
      " |-- additional: struct (nullable = true)\n",
      " |    |-- datetime: string (nullable = true)\n",
      " |    |-- percentage: double (nullable = true)\n",
      " |    |-- value: double (nullable = true)\n",
      "\n"
     ]
    }
   ],
   "source": [
    "from  pyspark.sql.functions import explode, min, max, avg\n",
    "\n",
    "\n",
    "pvpcDF.withColumn(\"additional\", explode(\"attributes.values\")).printSchema()"
   ]
  },
  {
   "cell_type": "code",
   "execution_count": 11,
   "id": "b84834df",
   "metadata": {},
   "outputs": [
    {
     "name": "stdout",
     "output_type": "stream",
     "text": [
      "Starting with 1 row and ending up with 0 rows.\n"
     ]
    }
   ],
   "source": [
    "#let's explore in more detail the data:\n",
    "number_of_elements = pvpcDF.limit(1)\\\n",
    "                            .withColumn(\"additional\", explode(\"attributes.values\"))\\\n",
    "                            .count()\n",
    "print(f\"Starting with 1 row and ending up with {number_of_elements} rows.\")"
   ]
  },
  {
   "cell_type": "markdown",
   "id": "57881114",
   "metadata": {},
   "source": [
    "<a id='2.2'></a>\n",
    "# 2.2 Create a  new DataFrame containing needed information\n",
    "Now we are going to create a new DF with the information we need"
   ]
  },
  {
   "cell_type": "code",
   "execution_count": 12,
   "id": "d0d31616",
   "metadata": {},
   "outputs": [
    {
     "name": "stdout",
     "output_type": "stream",
     "text": [
      "root\n",
      " |-- datetime: string (nullable = true)\n",
      " |-- value: double (nullable = true)\n",
      " |-- type: string (nullable = true)\n",
      "\n"
     ]
    }
   ],
   "source": [
    "pvpcvaluesDF = pvpcDF.withColumn(\"additional\", explode(\"attributes.values\"))\\\n",
    "                                            .select(\"additional.datetime\", \"additional.value\", \"type\")\n",
    "pvpcvaluesDF.printSchema()"
   ]
  },
  {
   "cell_type": "code",
   "execution_count": 13,
   "id": "cf7e2fab",
   "metadata": {},
   "outputs": [
    {
     "name": "stdout",
     "output_type": "stream",
     "text": [
      "Number of rows= 10126\n",
      "+--------------------+------+------------+\n",
      "|            datetime| value|        type|\n",
      "+--------------------+------+------------+\n",
      "|2022-04-15T00:00:...|274.52|PVPC (€/MWh)|\n",
      "|2022-04-15T01:00:...|265.48|PVPC (€/MWh)|\n",
      "|2022-04-15T02:00:...|262.97|PVPC (€/MWh)|\n",
      "|2022-04-15T03:00:...|260.87|PVPC (€/MWh)|\n",
      "+--------------------+------+------------+\n",
      "\n"
     ]
    },
    {
     "data": {
      "text/html": [
       "<div>\n",
       "<style scoped>\n",
       "    .dataframe tbody tr th:only-of-type {\n",
       "        vertical-align: middle;\n",
       "    }\n",
       "\n",
       "    .dataframe tbody tr th {\n",
       "        vertical-align: top;\n",
       "    }\n",
       "\n",
       "    .dataframe thead th {\n",
       "        text-align: right;\n",
       "    }\n",
       "</style>\n",
       "<table border=\"1\" class=\"dataframe\">\n",
       "  <thead>\n",
       "    <tr style=\"text-align: right;\">\n",
       "      <th></th>\n",
       "      <th>datetime</th>\n",
       "      <th>value</th>\n",
       "      <th>type</th>\n",
       "    </tr>\n",
       "  </thead>\n",
       "  <tbody>\n",
       "    <tr>\n",
       "      <th>0</th>\n",
       "      <td>2022-04-15T00:00:00.000+02:00</td>\n",
       "      <td>274.52</td>\n",
       "      <td>PVPC (€/MWh)</td>\n",
       "    </tr>\n",
       "    <tr>\n",
       "      <th>1</th>\n",
       "      <td>2022-04-15T01:00:00.000+02:00</td>\n",
       "      <td>265.48</td>\n",
       "      <td>PVPC (€/MWh)</td>\n",
       "    </tr>\n",
       "    <tr>\n",
       "      <th>2</th>\n",
       "      <td>2022-04-15T02:00:00.000+02:00</td>\n",
       "      <td>262.97</td>\n",
       "      <td>PVPC (€/MWh)</td>\n",
       "    </tr>\n",
       "    <tr>\n",
       "      <th>3</th>\n",
       "      <td>2022-04-15T03:00:00.000+02:00</td>\n",
       "      <td>260.87</td>\n",
       "      <td>PVPC (€/MWh)</td>\n",
       "    </tr>\n",
       "    <tr>\n",
       "      <th>4</th>\n",
       "      <td>2022-04-15T04:00:00.000+02:00</td>\n",
       "      <td>259.76</td>\n",
       "      <td>PVPC (€/MWh)</td>\n",
       "    </tr>\n",
       "    <tr>\n",
       "      <th>5</th>\n",
       "      <td>2022-04-15T05:00:00.000+02:00</td>\n",
       "      <td>265.41</td>\n",
       "      <td>PVPC (€/MWh)</td>\n",
       "    </tr>\n",
       "    <tr>\n",
       "      <th>6</th>\n",
       "      <td>2022-04-15T06:00:00.000+02:00</td>\n",
       "      <td>272.52</td>\n",
       "      <td>PVPC (€/MWh)</td>\n",
       "    </tr>\n",
       "    <tr>\n",
       "      <th>7</th>\n",
       "      <td>2022-04-15T07:00:00.000+02:00</td>\n",
       "      <td>288.36</td>\n",
       "      <td>PVPC (€/MWh)</td>\n",
       "    </tr>\n",
       "    <tr>\n",
       "      <th>8</th>\n",
       "      <td>2022-04-15T08:00:00.000+02:00</td>\n",
       "      <td>329.67</td>\n",
       "      <td>PVPC (€/MWh)</td>\n",
       "    </tr>\n",
       "    <tr>\n",
       "      <th>9</th>\n",
       "      <td>2022-04-15T09:00:00.000+02:00</td>\n",
       "      <td>317.06</td>\n",
       "      <td>PVPC (€/MWh)</td>\n",
       "    </tr>\n",
       "    <tr>\n",
       "      <th>10</th>\n",
       "      <td>2022-04-15T10:00:00.000+02:00</td>\n",
       "      <td>316.26</td>\n",
       "      <td>PVPC (€/MWh)</td>\n",
       "    </tr>\n",
       "    <tr>\n",
       "      <th>11</th>\n",
       "      <td>2022-04-15T11:00:00.000+02:00</td>\n",
       "      <td>291.17</td>\n",
       "      <td>PVPC (€/MWh)</td>\n",
       "    </tr>\n",
       "    <tr>\n",
       "      <th>12</th>\n",
       "      <td>2022-04-15T12:00:00.000+02:00</td>\n",
       "      <td>291.17</td>\n",
       "      <td>PVPC (€/MWh)</td>\n",
       "    </tr>\n",
       "    <tr>\n",
       "      <th>13</th>\n",
       "      <td>2022-04-15T13:00:00.000+02:00</td>\n",
       "      <td>288.20</td>\n",
       "      <td>PVPC (€/MWh)</td>\n",
       "    </tr>\n",
       "    <tr>\n",
       "      <th>14</th>\n",
       "      <td>2022-04-15T14:00:00.000+02:00</td>\n",
       "      <td>232.35</td>\n",
       "      <td>PVPC (€/MWh)</td>\n",
       "    </tr>\n",
       "    <tr>\n",
       "      <th>15</th>\n",
       "      <td>2022-04-15T15:00:00.000+02:00</td>\n",
       "      <td>229.63</td>\n",
       "      <td>PVPC (€/MWh)</td>\n",
       "    </tr>\n",
       "    <tr>\n",
       "      <th>16</th>\n",
       "      <td>2022-04-15T16:00:00.000+02:00</td>\n",
       "      <td>235.35</td>\n",
       "      <td>PVPC (€/MWh)</td>\n",
       "    </tr>\n",
       "    <tr>\n",
       "      <th>17</th>\n",
       "      <td>2022-04-15T17:00:00.000+02:00</td>\n",
       "      <td>253.72</td>\n",
       "      <td>PVPC (€/MWh)</td>\n",
       "    </tr>\n",
       "    <tr>\n",
       "      <th>18</th>\n",
       "      <td>2022-04-15T18:00:00.000+02:00</td>\n",
       "      <td>328.34</td>\n",
       "      <td>PVPC (€/MWh)</td>\n",
       "    </tr>\n",
       "    <tr>\n",
       "      <th>19</th>\n",
       "      <td>2022-04-15T19:00:00.000+02:00</td>\n",
       "      <td>364.26</td>\n",
       "      <td>PVPC (€/MWh)</td>\n",
       "    </tr>\n",
       "    <tr>\n",
       "      <th>20</th>\n",
       "      <td>2022-04-15T20:00:00.000+02:00</td>\n",
       "      <td>366.88</td>\n",
       "      <td>PVPC (€/MWh)</td>\n",
       "    </tr>\n",
       "    <tr>\n",
       "      <th>21</th>\n",
       "      <td>2022-04-15T21:00:00.000+02:00</td>\n",
       "      <td>365.16</td>\n",
       "      <td>PVPC (€/MWh)</td>\n",
       "    </tr>\n",
       "    <tr>\n",
       "      <th>22</th>\n",
       "      <td>2022-04-15T22:00:00.000+02:00</td>\n",
       "      <td>318.81</td>\n",
       "      <td>PVPC (€/MWh)</td>\n",
       "    </tr>\n",
       "    <tr>\n",
       "      <th>23</th>\n",
       "      <td>2022-04-15T23:00:00.000+02:00</td>\n",
       "      <td>299.06</td>\n",
       "      <td>PVPC (€/MWh)</td>\n",
       "    </tr>\n",
       "    <tr>\n",
       "      <th>24</th>\n",
       "      <td>2022-04-15T00:00:00.000+02:00</td>\n",
       "      <td>214.90</td>\n",
       "      <td>Precio mercado spot (€/MWh)</td>\n",
       "    </tr>\n",
       "    <tr>\n",
       "      <th>25</th>\n",
       "      <td>2022-04-15T01:00:00.000+02:00</td>\n",
       "      <td>202.21</td>\n",
       "      <td>Precio mercado spot (€/MWh)</td>\n",
       "    </tr>\n",
       "    <tr>\n",
       "      <th>26</th>\n",
       "      <td>2022-04-15T02:00:00.000+02:00</td>\n",
       "      <td>197.03</td>\n",
       "      <td>Precio mercado spot (€/MWh)</td>\n",
       "    </tr>\n",
       "    <tr>\n",
       "      <th>27</th>\n",
       "      <td>2022-04-15T03:00:00.000+02:00</td>\n",
       "      <td>193.70</td>\n",
       "      <td>Precio mercado spot (€/MWh)</td>\n",
       "    </tr>\n",
       "    <tr>\n",
       "      <th>28</th>\n",
       "      <td>2022-04-15T04:00:00.000+02:00</td>\n",
       "      <td>192.21</td>\n",
       "      <td>Precio mercado spot (€/MWh)</td>\n",
       "    </tr>\n",
       "    <tr>\n",
       "      <th>29</th>\n",
       "      <td>2022-04-15T05:00:00.000+02:00</td>\n",
       "      <td>196.86</td>\n",
       "      <td>Precio mercado spot (€/MWh)</td>\n",
       "    </tr>\n",
       "    <tr>\n",
       "      <th>30</th>\n",
       "      <td>2022-04-15T06:00:00.000+02:00</td>\n",
       "      <td>205.33</td>\n",
       "      <td>Precio mercado spot (€/MWh)</td>\n",
       "    </tr>\n",
       "    <tr>\n",
       "      <th>31</th>\n",
       "      <td>2022-04-15T07:00:00.000+02:00</td>\n",
       "      <td>221.41</td>\n",
       "      <td>Precio mercado spot (€/MWh)</td>\n",
       "    </tr>\n",
       "    <tr>\n",
       "      <th>32</th>\n",
       "      <td>2022-04-15T08:00:00.000+02:00</td>\n",
       "      <td>229.31</td>\n",
       "      <td>Precio mercado spot (€/MWh)</td>\n",
       "    </tr>\n",
       "    <tr>\n",
       "      <th>33</th>\n",
       "      <td>2022-04-15T09:00:00.000+02:00</td>\n",
       "      <td>228.43</td>\n",
       "      <td>Precio mercado spot (€/MWh)</td>\n",
       "    </tr>\n",
       "    <tr>\n",
       "      <th>34</th>\n",
       "      <td>2022-04-15T10:00:00.000+02:00</td>\n",
       "      <td>191.87</td>\n",
       "      <td>Precio mercado spot (€/MWh)</td>\n",
       "    </tr>\n",
       "  </tbody>\n",
       "</table>\n",
       "</div>"
      ],
      "text/plain": [
       "                         datetime   value                         type\n",
       "0   2022-04-15T00:00:00.000+02:00  274.52                 PVPC (€/MWh)\n",
       "1   2022-04-15T01:00:00.000+02:00  265.48                 PVPC (€/MWh)\n",
       "2   2022-04-15T02:00:00.000+02:00  262.97                 PVPC (€/MWh)\n",
       "3   2022-04-15T03:00:00.000+02:00  260.87                 PVPC (€/MWh)\n",
       "4   2022-04-15T04:00:00.000+02:00  259.76                 PVPC (€/MWh)\n",
       "5   2022-04-15T05:00:00.000+02:00  265.41                 PVPC (€/MWh)\n",
       "6   2022-04-15T06:00:00.000+02:00  272.52                 PVPC (€/MWh)\n",
       "7   2022-04-15T07:00:00.000+02:00  288.36                 PVPC (€/MWh)\n",
       "8   2022-04-15T08:00:00.000+02:00  329.67                 PVPC (€/MWh)\n",
       "9   2022-04-15T09:00:00.000+02:00  317.06                 PVPC (€/MWh)\n",
       "10  2022-04-15T10:00:00.000+02:00  316.26                 PVPC (€/MWh)\n",
       "11  2022-04-15T11:00:00.000+02:00  291.17                 PVPC (€/MWh)\n",
       "12  2022-04-15T12:00:00.000+02:00  291.17                 PVPC (€/MWh)\n",
       "13  2022-04-15T13:00:00.000+02:00  288.20                 PVPC (€/MWh)\n",
       "14  2022-04-15T14:00:00.000+02:00  232.35                 PVPC (€/MWh)\n",
       "15  2022-04-15T15:00:00.000+02:00  229.63                 PVPC (€/MWh)\n",
       "16  2022-04-15T16:00:00.000+02:00  235.35                 PVPC (€/MWh)\n",
       "17  2022-04-15T17:00:00.000+02:00  253.72                 PVPC (€/MWh)\n",
       "18  2022-04-15T18:00:00.000+02:00  328.34                 PVPC (€/MWh)\n",
       "19  2022-04-15T19:00:00.000+02:00  364.26                 PVPC (€/MWh)\n",
       "20  2022-04-15T20:00:00.000+02:00  366.88                 PVPC (€/MWh)\n",
       "21  2022-04-15T21:00:00.000+02:00  365.16                 PVPC (€/MWh)\n",
       "22  2022-04-15T22:00:00.000+02:00  318.81                 PVPC (€/MWh)\n",
       "23  2022-04-15T23:00:00.000+02:00  299.06                 PVPC (€/MWh)\n",
       "24  2022-04-15T00:00:00.000+02:00  214.90  Precio mercado spot (€/MWh)\n",
       "25  2022-04-15T01:00:00.000+02:00  202.21  Precio mercado spot (€/MWh)\n",
       "26  2022-04-15T02:00:00.000+02:00  197.03  Precio mercado spot (€/MWh)\n",
       "27  2022-04-15T03:00:00.000+02:00  193.70  Precio mercado spot (€/MWh)\n",
       "28  2022-04-15T04:00:00.000+02:00  192.21  Precio mercado spot (€/MWh)\n",
       "29  2022-04-15T05:00:00.000+02:00  196.86  Precio mercado spot (€/MWh)\n",
       "30  2022-04-15T06:00:00.000+02:00  205.33  Precio mercado spot (€/MWh)\n",
       "31  2022-04-15T07:00:00.000+02:00  221.41  Precio mercado spot (€/MWh)\n",
       "32  2022-04-15T08:00:00.000+02:00  229.31  Precio mercado spot (€/MWh)\n",
       "33  2022-04-15T09:00:00.000+02:00  228.43  Precio mercado spot (€/MWh)\n",
       "34  2022-04-15T10:00:00.000+02:00  191.87  Precio mercado spot (€/MWh)"
      ]
     },
     "execution_count": 13,
     "metadata": {},
     "output_type": "execute_result"
    }
   ],
   "source": [
    "print(\"Number of rows=\",pvpcvaluesDF.count())\n",
    "pvpcvaluesDF.limit(4).show()\n",
    "pvpcvaluesDF.limit(35).toPandas()\n"
   ]
  },
  {
   "cell_type": "markdown",
   "id": "5262bcdd",
   "metadata": {},
   "source": [
    "<a id='2.3'></a>\n",
    "# 2.3 Separate the DataFrame into two \n",
    "We have seen that PVPC and SPOT prices are shown in different rows for each hour. Previously to combine them in a single row, we are going to separate the DF in 2, one with PVPCs and another with Spot market price"
   ]
  },
  {
   "cell_type": "code",
   "execution_count": 14,
   "id": "3b008653",
   "metadata": {},
   "outputs": [
    {
     "data": {
      "text/html": [
       "<div>\n",
       "<style scoped>\n",
       "    .dataframe tbody tr th:only-of-type {\n",
       "        vertical-align: middle;\n",
       "    }\n",
       "\n",
       "    .dataframe tbody tr th {\n",
       "        vertical-align: top;\n",
       "    }\n",
       "\n",
       "    .dataframe thead th {\n",
       "        text-align: right;\n",
       "    }\n",
       "</style>\n",
       "<table border=\"1\" class=\"dataframe\">\n",
       "  <thead>\n",
       "    <tr style=\"text-align: right;\">\n",
       "      <th></th>\n",
       "      <th>datetime</th>\n",
       "      <th>value</th>\n",
       "      <th>type</th>\n",
       "    </tr>\n",
       "  </thead>\n",
       "  <tbody>\n",
       "    <tr>\n",
       "      <th>0</th>\n",
       "      <td>2022-01-01T00:00:00.000+01:00</td>\n",
       "      <td>204.51</td>\n",
       "      <td>PVPC (€/MWh)</td>\n",
       "    </tr>\n",
       "    <tr>\n",
       "      <th>1</th>\n",
       "      <td>2022-01-01T01:00:00.000+01:00</td>\n",
       "      <td>171.35</td>\n",
       "      <td>PVPC (€/MWh)</td>\n",
       "    </tr>\n",
       "    <tr>\n",
       "      <th>2</th>\n",
       "      <td>2022-01-01T02:00:00.000+01:00</td>\n",
       "      <td>172.70</td>\n",
       "      <td>PVPC (€/MWh)</td>\n",
       "    </tr>\n",
       "    <tr>\n",
       "      <th>3</th>\n",
       "      <td>2022-01-01T03:00:00.000+01:00</td>\n",
       "      <td>156.07</td>\n",
       "      <td>PVPC (€/MWh)</td>\n",
       "    </tr>\n",
       "    <tr>\n",
       "      <th>4</th>\n",
       "      <td>2022-01-01T04:00:00.000+01:00</td>\n",
       "      <td>159.08</td>\n",
       "      <td>PVPC (€/MWh)</td>\n",
       "    </tr>\n",
       "    <tr>\n",
       "      <th>5</th>\n",
       "      <td>2022-01-01T05:00:00.000+01:00</td>\n",
       "      <td>157.28</td>\n",
       "      <td>PVPC (€/MWh)</td>\n",
       "    </tr>\n",
       "    <tr>\n",
       "      <th>6</th>\n",
       "      <td>2022-01-01T06:00:00.000+01:00</td>\n",
       "      <td>158.87</td>\n",
       "      <td>PVPC (€/MWh)</td>\n",
       "    </tr>\n",
       "    <tr>\n",
       "      <th>7</th>\n",
       "      <td>2022-01-01T07:00:00.000+01:00</td>\n",
       "      <td>157.58</td>\n",
       "      <td>PVPC (€/MWh)</td>\n",
       "    </tr>\n",
       "    <tr>\n",
       "      <th>8</th>\n",
       "      <td>2022-01-01T08:00:00.000+01:00</td>\n",
       "      <td>156.18</td>\n",
       "      <td>PVPC (€/MWh)</td>\n",
       "    </tr>\n",
       "    <tr>\n",
       "      <th>9</th>\n",
       "      <td>2022-01-01T09:00:00.000+01:00</td>\n",
       "      <td>118.96</td>\n",
       "      <td>PVPC (€/MWh)</td>\n",
       "    </tr>\n",
       "    <tr>\n",
       "      <th>10</th>\n",
       "      <td>2022-01-01T10:00:00.000+01:00</td>\n",
       "      <td>122.06</td>\n",
       "      <td>PVPC (€/MWh)</td>\n",
       "    </tr>\n",
       "    <tr>\n",
       "      <th>11</th>\n",
       "      <td>2022-01-01T11:00:00.000+01:00</td>\n",
       "      <td>127.97</td>\n",
       "      <td>PVPC (€/MWh)</td>\n",
       "    </tr>\n",
       "    <tr>\n",
       "      <th>12</th>\n",
       "      <td>2022-01-01T12:00:00.000+01:00</td>\n",
       "      <td>139.90</td>\n",
       "      <td>PVPC (€/MWh)</td>\n",
       "    </tr>\n",
       "    <tr>\n",
       "      <th>13</th>\n",
       "      <td>2022-01-01T13:00:00.000+01:00</td>\n",
       "      <td>141.95</td>\n",
       "      <td>PVPC (€/MWh)</td>\n",
       "    </tr>\n",
       "    <tr>\n",
       "      <th>14</th>\n",
       "      <td>2022-01-01T14:00:00.000+01:00</td>\n",
       "      <td>143.48</td>\n",
       "      <td>PVPC (€/MWh)</td>\n",
       "    </tr>\n",
       "    <tr>\n",
       "      <th>15</th>\n",
       "      <td>2022-01-01T15:00:00.000+01:00</td>\n",
       "      <td>147.69</td>\n",
       "      <td>PVPC (€/MWh)</td>\n",
       "    </tr>\n",
       "    <tr>\n",
       "      <th>16</th>\n",
       "      <td>2022-01-01T16:00:00.000+01:00</td>\n",
       "      <td>172.14</td>\n",
       "      <td>PVPC (€/MWh)</td>\n",
       "    </tr>\n",
       "    <tr>\n",
       "      <th>17</th>\n",
       "      <td>2022-01-01T17:00:00.000+01:00</td>\n",
       "      <td>212.24</td>\n",
       "      <td>PVPC (€/MWh)</td>\n",
       "    </tr>\n",
       "    <tr>\n",
       "      <th>18</th>\n",
       "      <td>2022-01-01T18:00:00.000+01:00</td>\n",
       "      <td>240.74</td>\n",
       "      <td>PVPC (€/MWh)</td>\n",
       "    </tr>\n",
       "    <tr>\n",
       "      <th>19</th>\n",
       "      <td>2022-01-01T19:00:00.000+01:00</td>\n",
       "      <td>244.33</td>\n",
       "      <td>PVPC (€/MWh)</td>\n",
       "    </tr>\n",
       "    <tr>\n",
       "      <th>20</th>\n",
       "      <td>2022-01-01T20:00:00.000+01:00</td>\n",
       "      <td>247.11</td>\n",
       "      <td>PVPC (€/MWh)</td>\n",
       "    </tr>\n",
       "    <tr>\n",
       "      <th>21</th>\n",
       "      <td>2022-01-01T21:00:00.000+01:00</td>\n",
       "      <td>248.38</td>\n",
       "      <td>PVPC (€/MWh)</td>\n",
       "    </tr>\n",
       "    <tr>\n",
       "      <th>22</th>\n",
       "      <td>2022-01-01T22:00:00.000+01:00</td>\n",
       "      <td>248.88</td>\n",
       "      <td>PVPC (€/MWh)</td>\n",
       "    </tr>\n",
       "    <tr>\n",
       "      <th>23</th>\n",
       "      <td>2022-01-01T23:00:00.000+01:00</td>\n",
       "      <td>229.10</td>\n",
       "      <td>PVPC (€/MWh)</td>\n",
       "    </tr>\n",
       "    <tr>\n",
       "      <th>24</th>\n",
       "      <td>2022-01-02T00:00:00.000+01:00</td>\n",
       "      <td>186.21</td>\n",
       "      <td>PVPC (€/MWh)</td>\n",
       "    </tr>\n",
       "    <tr>\n",
       "      <th>25</th>\n",
       "      <td>2022-01-02T01:00:00.000+01:00</td>\n",
       "      <td>168.59</td>\n",
       "      <td>PVPC (€/MWh)</td>\n",
       "    </tr>\n",
       "    <tr>\n",
       "      <th>26</th>\n",
       "      <td>2022-01-02T02:00:00.000+01:00</td>\n",
       "      <td>164.36</td>\n",
       "      <td>PVPC (€/MWh)</td>\n",
       "    </tr>\n",
       "    <tr>\n",
       "      <th>27</th>\n",
       "      <td>2022-01-02T03:00:00.000+01:00</td>\n",
       "      <td>168.80</td>\n",
       "      <td>PVPC (€/MWh)</td>\n",
       "    </tr>\n",
       "    <tr>\n",
       "      <th>28</th>\n",
       "      <td>2022-01-02T04:00:00.000+01:00</td>\n",
       "      <td>173.15</td>\n",
       "      <td>PVPC (€/MWh)</td>\n",
       "    </tr>\n",
       "    <tr>\n",
       "      <th>29</th>\n",
       "      <td>2022-01-02T05:00:00.000+01:00</td>\n",
       "      <td>167.53</td>\n",
       "      <td>PVPC (€/MWh)</td>\n",
       "    </tr>\n",
       "    <tr>\n",
       "      <th>30</th>\n",
       "      <td>2022-01-02T06:00:00.000+01:00</td>\n",
       "      <td>170.81</td>\n",
       "      <td>PVPC (€/MWh)</td>\n",
       "    </tr>\n",
       "    <tr>\n",
       "      <th>31</th>\n",
       "      <td>2022-01-02T07:00:00.000+01:00</td>\n",
       "      <td>183.78</td>\n",
       "      <td>PVPC (€/MWh)</td>\n",
       "    </tr>\n",
       "    <tr>\n",
       "      <th>32</th>\n",
       "      <td>2022-01-02T08:00:00.000+01:00</td>\n",
       "      <td>165.48</td>\n",
       "      <td>PVPC (€/MWh)</td>\n",
       "    </tr>\n",
       "    <tr>\n",
       "      <th>33</th>\n",
       "      <td>2022-01-02T09:00:00.000+01:00</td>\n",
       "      <td>160.64</td>\n",
       "      <td>PVPC (€/MWh)</td>\n",
       "    </tr>\n",
       "    <tr>\n",
       "      <th>34</th>\n",
       "      <td>2022-01-02T10:00:00.000+01:00</td>\n",
       "      <td>153.62</td>\n",
       "      <td>PVPC (€/MWh)</td>\n",
       "    </tr>\n",
       "    <tr>\n",
       "      <th>35</th>\n",
       "      <td>2022-01-02T11:00:00.000+01:00</td>\n",
       "      <td>141.37</td>\n",
       "      <td>PVPC (€/MWh)</td>\n",
       "    </tr>\n",
       "    <tr>\n",
       "      <th>36</th>\n",
       "      <td>2022-01-02T12:00:00.000+01:00</td>\n",
       "      <td>141.13</td>\n",
       "      <td>PVPC (€/MWh)</td>\n",
       "    </tr>\n",
       "    <tr>\n",
       "      <th>37</th>\n",
       "      <td>2022-01-02T13:00:00.000+01:00</td>\n",
       "      <td>147.85</td>\n",
       "      <td>PVPC (€/MWh)</td>\n",
       "    </tr>\n",
       "    <tr>\n",
       "      <th>38</th>\n",
       "      <td>2022-01-02T14:00:00.000+01:00</td>\n",
       "      <td>154.49</td>\n",
       "      <td>PVPC (€/MWh)</td>\n",
       "    </tr>\n",
       "    <tr>\n",
       "      <th>39</th>\n",
       "      <td>2022-01-02T15:00:00.000+01:00</td>\n",
       "      <td>148.14</td>\n",
       "      <td>PVPC (€/MWh)</td>\n",
       "    </tr>\n",
       "  </tbody>\n",
       "</table>\n",
       "</div>"
      ],
      "text/plain": [
       "                         datetime   value          type\n",
       "0   2022-01-01T00:00:00.000+01:00  204.51  PVPC (€/MWh)\n",
       "1   2022-01-01T01:00:00.000+01:00  171.35  PVPC (€/MWh)\n",
       "2   2022-01-01T02:00:00.000+01:00  172.70  PVPC (€/MWh)\n",
       "3   2022-01-01T03:00:00.000+01:00  156.07  PVPC (€/MWh)\n",
       "4   2022-01-01T04:00:00.000+01:00  159.08  PVPC (€/MWh)\n",
       "5   2022-01-01T05:00:00.000+01:00  157.28  PVPC (€/MWh)\n",
       "6   2022-01-01T06:00:00.000+01:00  158.87  PVPC (€/MWh)\n",
       "7   2022-01-01T07:00:00.000+01:00  157.58  PVPC (€/MWh)\n",
       "8   2022-01-01T08:00:00.000+01:00  156.18  PVPC (€/MWh)\n",
       "9   2022-01-01T09:00:00.000+01:00  118.96  PVPC (€/MWh)\n",
       "10  2022-01-01T10:00:00.000+01:00  122.06  PVPC (€/MWh)\n",
       "11  2022-01-01T11:00:00.000+01:00  127.97  PVPC (€/MWh)\n",
       "12  2022-01-01T12:00:00.000+01:00  139.90  PVPC (€/MWh)\n",
       "13  2022-01-01T13:00:00.000+01:00  141.95  PVPC (€/MWh)\n",
       "14  2022-01-01T14:00:00.000+01:00  143.48  PVPC (€/MWh)\n",
       "15  2022-01-01T15:00:00.000+01:00  147.69  PVPC (€/MWh)\n",
       "16  2022-01-01T16:00:00.000+01:00  172.14  PVPC (€/MWh)\n",
       "17  2022-01-01T17:00:00.000+01:00  212.24  PVPC (€/MWh)\n",
       "18  2022-01-01T18:00:00.000+01:00  240.74  PVPC (€/MWh)\n",
       "19  2022-01-01T19:00:00.000+01:00  244.33  PVPC (€/MWh)\n",
       "20  2022-01-01T20:00:00.000+01:00  247.11  PVPC (€/MWh)\n",
       "21  2022-01-01T21:00:00.000+01:00  248.38  PVPC (€/MWh)\n",
       "22  2022-01-01T22:00:00.000+01:00  248.88  PVPC (€/MWh)\n",
       "23  2022-01-01T23:00:00.000+01:00  229.10  PVPC (€/MWh)\n",
       "24  2022-01-02T00:00:00.000+01:00  186.21  PVPC (€/MWh)\n",
       "25  2022-01-02T01:00:00.000+01:00  168.59  PVPC (€/MWh)\n",
       "26  2022-01-02T02:00:00.000+01:00  164.36  PVPC (€/MWh)\n",
       "27  2022-01-02T03:00:00.000+01:00  168.80  PVPC (€/MWh)\n",
       "28  2022-01-02T04:00:00.000+01:00  173.15  PVPC (€/MWh)\n",
       "29  2022-01-02T05:00:00.000+01:00  167.53  PVPC (€/MWh)\n",
       "30  2022-01-02T06:00:00.000+01:00  170.81  PVPC (€/MWh)\n",
       "31  2022-01-02T07:00:00.000+01:00  183.78  PVPC (€/MWh)\n",
       "32  2022-01-02T08:00:00.000+01:00  165.48  PVPC (€/MWh)\n",
       "33  2022-01-02T09:00:00.000+01:00  160.64  PVPC (€/MWh)\n",
       "34  2022-01-02T10:00:00.000+01:00  153.62  PVPC (€/MWh)\n",
       "35  2022-01-02T11:00:00.000+01:00  141.37  PVPC (€/MWh)\n",
       "36  2022-01-02T12:00:00.000+01:00  141.13  PVPC (€/MWh)\n",
       "37  2022-01-02T13:00:00.000+01:00  147.85  PVPC (€/MWh)\n",
       "38  2022-01-02T14:00:00.000+01:00  154.49  PVPC (€/MWh)\n",
       "39  2022-01-02T15:00:00.000+01:00  148.14  PVPC (€/MWh)"
      ]
     },
     "execution_count": 14,
     "metadata": {},
     "output_type": "execute_result"
    }
   ],
   "source": [
    "#Now with the PVPC price\n",
    "pvpc_onlyDF = pvpcvaluesDF.where(\"type='PVPC (€/MWh)'\").orderBy(col(\"datetime\").asc())\n",
    "pvpc_onlyDF.limit(40).toPandas()                                                            "
   ]
  },
  {
   "cell_type": "code",
   "execution_count": 15,
   "id": "ae369def",
   "metadata": {},
   "outputs": [
    {
     "data": {
      "text/html": [
       "<div>\n",
       "<style scoped>\n",
       "    .dataframe tbody tr th:only-of-type {\n",
       "        vertical-align: middle;\n",
       "    }\n",
       "\n",
       "    .dataframe tbody tr th {\n",
       "        vertical-align: top;\n",
       "    }\n",
       "\n",
       "    .dataframe thead th {\n",
       "        text-align: right;\n",
       "    }\n",
       "</style>\n",
       "<table border=\"1\" class=\"dataframe\">\n",
       "  <thead>\n",
       "    <tr style=\"text-align: right;\">\n",
       "      <th></th>\n",
       "      <th>datetime</th>\n",
       "      <th>value</th>\n",
       "      <th>type</th>\n",
       "    </tr>\n",
       "  </thead>\n",
       "  <tbody>\n",
       "    <tr>\n",
       "      <th>0</th>\n",
       "      <td>2022-01-01T00:00:00.000+01:00</td>\n",
       "      <td>145.86</td>\n",
       "      <td>Precio mercado spot (€/MWh)</td>\n",
       "    </tr>\n",
       "    <tr>\n",
       "      <th>1</th>\n",
       "      <td>2022-01-01T01:00:00.000+01:00</td>\n",
       "      <td>114.90</td>\n",
       "      <td>Precio mercado spot (€/MWh)</td>\n",
       "    </tr>\n",
       "    <tr>\n",
       "      <th>2</th>\n",
       "      <td>2022-01-01T02:00:00.000+01:00</td>\n",
       "      <td>113.87</td>\n",
       "      <td>Precio mercado spot (€/MWh)</td>\n",
       "    </tr>\n",
       "    <tr>\n",
       "      <th>3</th>\n",
       "      <td>2022-01-01T03:00:00.000+01:00</td>\n",
       "      <td>97.80</td>\n",
       "      <td>Precio mercado spot (€/MWh)</td>\n",
       "    </tr>\n",
       "    <tr>\n",
       "      <th>4</th>\n",
       "      <td>2022-01-01T04:00:00.000+01:00</td>\n",
       "      <td>97.80</td>\n",
       "      <td>Precio mercado spot (€/MWh)</td>\n",
       "    </tr>\n",
       "    <tr>\n",
       "      <th>5</th>\n",
       "      <td>2022-01-01T05:00:00.000+01:00</td>\n",
       "      <td>95.74</td>\n",
       "      <td>Precio mercado spot (€/MWh)</td>\n",
       "    </tr>\n",
       "    <tr>\n",
       "      <th>6</th>\n",
       "      <td>2022-01-01T06:00:00.000+01:00</td>\n",
       "      <td>97.80</td>\n",
       "      <td>Precio mercado spot (€/MWh)</td>\n",
       "    </tr>\n",
       "    <tr>\n",
       "      <th>7</th>\n",
       "      <td>2022-01-01T07:00:00.000+01:00</td>\n",
       "      <td>97.80</td>\n",
       "      <td>Precio mercado spot (€/MWh)</td>\n",
       "    </tr>\n",
       "    <tr>\n",
       "      <th>8</th>\n",
       "      <td>2022-01-01T08:00:00.000+01:00</td>\n",
       "      <td>97.80</td>\n",
       "      <td>Precio mercado spot (€/MWh)</td>\n",
       "    </tr>\n",
       "    <tr>\n",
       "      <th>9</th>\n",
       "      <td>2022-01-01T09:00:00.000+01:00</td>\n",
       "      <td>70.05</td>\n",
       "      <td>Precio mercado spot (€/MWh)</td>\n",
       "    </tr>\n",
       "    <tr>\n",
       "      <th>10</th>\n",
       "      <td>2022-01-01T10:00:00.000+01:00</td>\n",
       "      <td>76.79</td>\n",
       "      <td>Precio mercado spot (€/MWh)</td>\n",
       "    </tr>\n",
       "    <tr>\n",
       "      <th>11</th>\n",
       "      <td>2022-01-01T11:00:00.000+01:00</td>\n",
       "      <td>84.10</td>\n",
       "      <td>Precio mercado spot (€/MWh)</td>\n",
       "    </tr>\n",
       "    <tr>\n",
       "      <th>12</th>\n",
       "      <td>2022-01-01T12:00:00.000+01:00</td>\n",
       "      <td>94.74</td>\n",
       "      <td>Precio mercado spot (€/MWh)</td>\n",
       "    </tr>\n",
       "    <tr>\n",
       "      <th>13</th>\n",
       "      <td>2022-01-01T13:00:00.000+01:00</td>\n",
       "      <td>96.80</td>\n",
       "      <td>Precio mercado spot (€/MWh)</td>\n",
       "    </tr>\n",
       "    <tr>\n",
       "      <th>14</th>\n",
       "      <td>2022-01-01T14:00:00.000+01:00</td>\n",
       "      <td>97.80</td>\n",
       "      <td>Precio mercado spot (€/MWh)</td>\n",
       "    </tr>\n",
       "    <tr>\n",
       "      <th>15</th>\n",
       "      <td>2022-01-01T15:00:00.000+01:00</td>\n",
       "      <td>98.52</td>\n",
       "      <td>Precio mercado spot (€/MWh)</td>\n",
       "    </tr>\n",
       "    <tr>\n",
       "      <th>16</th>\n",
       "      <td>2022-01-01T16:00:00.000+01:00</td>\n",
       "      <td>114.50</td>\n",
       "      <td>Precio mercado spot (€/MWh)</td>\n",
       "    </tr>\n",
       "    <tr>\n",
       "      <th>17</th>\n",
       "      <td>2022-01-01T17:00:00.000+01:00</td>\n",
       "      <td>149.97</td>\n",
       "      <td>Precio mercado spot (€/MWh)</td>\n",
       "    </tr>\n",
       "    <tr>\n",
       "      <th>18</th>\n",
       "      <td>2022-01-01T18:00:00.000+01:00</td>\n",
       "      <td>177.22</td>\n",
       "      <td>Precio mercado spot (€/MWh)</td>\n",
       "    </tr>\n",
       "    <tr>\n",
       "      <th>19</th>\n",
       "      <td>2022-01-01T19:00:00.000+01:00</td>\n",
       "      <td>187.52</td>\n",
       "      <td>Precio mercado spot (€/MWh)</td>\n",
       "    </tr>\n",
       "    <tr>\n",
       "      <th>20</th>\n",
       "      <td>2022-01-01T20:00:00.000+01:00</td>\n",
       "      <td>189.26</td>\n",
       "      <td>Precio mercado spot (€/MWh)</td>\n",
       "    </tr>\n",
       "    <tr>\n",
       "      <th>21</th>\n",
       "      <td>2022-01-01T21:00:00.000+01:00</td>\n",
       "      <td>190.81</td>\n",
       "      <td>Precio mercado spot (€/MWh)</td>\n",
       "    </tr>\n",
       "    <tr>\n",
       "      <th>22</th>\n",
       "      <td>2022-01-01T22:00:00.000+01:00</td>\n",
       "      <td>188.39</td>\n",
       "      <td>Precio mercado spot (€/MWh)</td>\n",
       "    </tr>\n",
       "    <tr>\n",
       "      <th>23</th>\n",
       "      <td>2022-01-01T23:00:00.000+01:00</td>\n",
       "      <td>167.26</td>\n",
       "      <td>Precio mercado spot (€/MWh)</td>\n",
       "    </tr>\n",
       "    <tr>\n",
       "      <th>24</th>\n",
       "      <td>2022-01-02T00:00:00.000+01:00</td>\n",
       "      <td>133.21</td>\n",
       "      <td>Precio mercado spot (€/MWh)</td>\n",
       "    </tr>\n",
       "    <tr>\n",
       "      <th>25</th>\n",
       "      <td>2022-01-02T01:00:00.000+01:00</td>\n",
       "      <td>115.87</td>\n",
       "      <td>Precio mercado spot (€/MWh)</td>\n",
       "    </tr>\n",
       "    <tr>\n",
       "      <th>26</th>\n",
       "      <td>2022-01-02T02:00:00.000+01:00</td>\n",
       "      <td>110.52</td>\n",
       "      <td>Precio mercado spot (€/MWh)</td>\n",
       "    </tr>\n",
       "    <tr>\n",
       "      <th>27</th>\n",
       "      <td>2022-01-02T03:00:00.000+01:00</td>\n",
       "      <td>113.00</td>\n",
       "      <td>Precio mercado spot (€/MWh)</td>\n",
       "    </tr>\n",
       "    <tr>\n",
       "      <th>28</th>\n",
       "      <td>2022-01-02T04:00:00.000+01:00</td>\n",
       "      <td>115.87</td>\n",
       "      <td>Precio mercado spot (€/MWh)</td>\n",
       "    </tr>\n",
       "    <tr>\n",
       "      <th>29</th>\n",
       "      <td>2022-01-02T05:00:00.000+01:00</td>\n",
       "      <td>110.52</td>\n",
       "      <td>Precio mercado spot (€/MWh)</td>\n",
       "    </tr>\n",
       "    <tr>\n",
       "      <th>30</th>\n",
       "      <td>2022-01-02T06:00:00.000+01:00</td>\n",
       "      <td>115.87</td>\n",
       "      <td>Precio mercado spot (€/MWh)</td>\n",
       "    </tr>\n",
       "    <tr>\n",
       "      <th>31</th>\n",
       "      <td>2022-01-02T07:00:00.000+01:00</td>\n",
       "      <td>129.60</td>\n",
       "      <td>Precio mercado spot (€/MWh)</td>\n",
       "    </tr>\n",
       "    <tr>\n",
       "      <th>32</th>\n",
       "      <td>2022-01-02T08:00:00.000+01:00</td>\n",
       "      <td>115.87</td>\n",
       "      <td>Precio mercado spot (€/MWh)</td>\n",
       "    </tr>\n",
       "    <tr>\n",
       "      <th>33</th>\n",
       "      <td>2022-01-02T09:00:00.000+01:00</td>\n",
       "      <td>115.87</td>\n",
       "      <td>Precio mercado spot (€/MWh)</td>\n",
       "    </tr>\n",
       "    <tr>\n",
       "      <th>34</th>\n",
       "      <td>2022-01-02T10:00:00.000+01:00</td>\n",
       "      <td>113.00</td>\n",
       "      <td>Precio mercado spot (€/MWh)</td>\n",
       "    </tr>\n",
       "    <tr>\n",
       "      <th>35</th>\n",
       "      <td>2022-01-02T11:00:00.000+01:00</td>\n",
       "      <td>103.70</td>\n",
       "      <td>Precio mercado spot (€/MWh)</td>\n",
       "    </tr>\n",
       "    <tr>\n",
       "      <th>36</th>\n",
       "      <td>2022-01-02T12:00:00.000+01:00</td>\n",
       "      <td>103.70</td>\n",
       "      <td>Precio mercado spot (€/MWh)</td>\n",
       "    </tr>\n",
       "    <tr>\n",
       "      <th>37</th>\n",
       "      <td>2022-01-02T13:00:00.000+01:00</td>\n",
       "      <td>110.52</td>\n",
       "      <td>Precio mercado spot (€/MWh)</td>\n",
       "    </tr>\n",
       "    <tr>\n",
       "      <th>38</th>\n",
       "      <td>2022-01-02T14:00:00.000+01:00</td>\n",
       "      <td>115.87</td>\n",
       "      <td>Precio mercado spot (€/MWh)</td>\n",
       "    </tr>\n",
       "    <tr>\n",
       "      <th>39</th>\n",
       "      <td>2022-01-02T15:00:00.000+01:00</td>\n",
       "      <td>109.50</td>\n",
       "      <td>Precio mercado spot (€/MWh)</td>\n",
       "    </tr>\n",
       "  </tbody>\n",
       "</table>\n",
       "</div>"
      ],
      "text/plain": [
       "                         datetime   value                         type\n",
       "0   2022-01-01T00:00:00.000+01:00  145.86  Precio mercado spot (€/MWh)\n",
       "1   2022-01-01T01:00:00.000+01:00  114.90  Precio mercado spot (€/MWh)\n",
       "2   2022-01-01T02:00:00.000+01:00  113.87  Precio mercado spot (€/MWh)\n",
       "3   2022-01-01T03:00:00.000+01:00   97.80  Precio mercado spot (€/MWh)\n",
       "4   2022-01-01T04:00:00.000+01:00   97.80  Precio mercado spot (€/MWh)\n",
       "5   2022-01-01T05:00:00.000+01:00   95.74  Precio mercado spot (€/MWh)\n",
       "6   2022-01-01T06:00:00.000+01:00   97.80  Precio mercado spot (€/MWh)\n",
       "7   2022-01-01T07:00:00.000+01:00   97.80  Precio mercado spot (€/MWh)\n",
       "8   2022-01-01T08:00:00.000+01:00   97.80  Precio mercado spot (€/MWh)\n",
       "9   2022-01-01T09:00:00.000+01:00   70.05  Precio mercado spot (€/MWh)\n",
       "10  2022-01-01T10:00:00.000+01:00   76.79  Precio mercado spot (€/MWh)\n",
       "11  2022-01-01T11:00:00.000+01:00   84.10  Precio mercado spot (€/MWh)\n",
       "12  2022-01-01T12:00:00.000+01:00   94.74  Precio mercado spot (€/MWh)\n",
       "13  2022-01-01T13:00:00.000+01:00   96.80  Precio mercado spot (€/MWh)\n",
       "14  2022-01-01T14:00:00.000+01:00   97.80  Precio mercado spot (€/MWh)\n",
       "15  2022-01-01T15:00:00.000+01:00   98.52  Precio mercado spot (€/MWh)\n",
       "16  2022-01-01T16:00:00.000+01:00  114.50  Precio mercado spot (€/MWh)\n",
       "17  2022-01-01T17:00:00.000+01:00  149.97  Precio mercado spot (€/MWh)\n",
       "18  2022-01-01T18:00:00.000+01:00  177.22  Precio mercado spot (€/MWh)\n",
       "19  2022-01-01T19:00:00.000+01:00  187.52  Precio mercado spot (€/MWh)\n",
       "20  2022-01-01T20:00:00.000+01:00  189.26  Precio mercado spot (€/MWh)\n",
       "21  2022-01-01T21:00:00.000+01:00  190.81  Precio mercado spot (€/MWh)\n",
       "22  2022-01-01T22:00:00.000+01:00  188.39  Precio mercado spot (€/MWh)\n",
       "23  2022-01-01T23:00:00.000+01:00  167.26  Precio mercado spot (€/MWh)\n",
       "24  2022-01-02T00:00:00.000+01:00  133.21  Precio mercado spot (€/MWh)\n",
       "25  2022-01-02T01:00:00.000+01:00  115.87  Precio mercado spot (€/MWh)\n",
       "26  2022-01-02T02:00:00.000+01:00  110.52  Precio mercado spot (€/MWh)\n",
       "27  2022-01-02T03:00:00.000+01:00  113.00  Precio mercado spot (€/MWh)\n",
       "28  2022-01-02T04:00:00.000+01:00  115.87  Precio mercado spot (€/MWh)\n",
       "29  2022-01-02T05:00:00.000+01:00  110.52  Precio mercado spot (€/MWh)\n",
       "30  2022-01-02T06:00:00.000+01:00  115.87  Precio mercado spot (€/MWh)\n",
       "31  2022-01-02T07:00:00.000+01:00  129.60  Precio mercado spot (€/MWh)\n",
       "32  2022-01-02T08:00:00.000+01:00  115.87  Precio mercado spot (€/MWh)\n",
       "33  2022-01-02T09:00:00.000+01:00  115.87  Precio mercado spot (€/MWh)\n",
       "34  2022-01-02T10:00:00.000+01:00  113.00  Precio mercado spot (€/MWh)\n",
       "35  2022-01-02T11:00:00.000+01:00  103.70  Precio mercado spot (€/MWh)\n",
       "36  2022-01-02T12:00:00.000+01:00  103.70  Precio mercado spot (€/MWh)\n",
       "37  2022-01-02T13:00:00.000+01:00  110.52  Precio mercado spot (€/MWh)\n",
       "38  2022-01-02T14:00:00.000+01:00  115.87  Precio mercado spot (€/MWh)\n",
       "39  2022-01-02T15:00:00.000+01:00  109.50  Precio mercado spot (€/MWh)"
      ]
     },
     "execution_count": 15,
     "metadata": {},
     "output_type": "execute_result"
    }
   ],
   "source": [
    "#Now the spot price\n",
    "spot_onlyDF = pvpcvaluesDF.where(\"type='Precio mercado spot (€/MWh)'\").orderBy(col(\"datetime\").asc())\n",
    "spot_onlyDF.limit(40).toPandas() "
   ]
  },
  {
   "cell_type": "markdown",
   "id": "0aa38b0e",
   "metadata": {},
   "source": [
    "Count the number of rows"
   ]
  },
  {
   "cell_type": "code",
   "execution_count": 16,
   "id": "9a0dfdaa",
   "metadata": {},
   "outputs": [
    {
     "data": {
      "text/plain": [
       "5063"
      ]
     },
     "execution_count": 16,
     "metadata": {},
     "output_type": "execute_result"
    }
   ],
   "source": [
    "pvpc_onlyDF.count()"
   ]
  },
  {
   "cell_type": "code",
   "execution_count": 17,
   "id": "086a20a1",
   "metadata": {},
   "outputs": [
    {
     "data": {
      "text/plain": [
       "5063"
      ]
     },
     "execution_count": 17,
     "metadata": {},
     "output_type": "execute_result"
    }
   ],
   "source": [
    "spot_onlyDF.count()"
   ]
  },
  {
   "cell_type": "markdown",
   "id": "5462a4a9",
   "metadata": {},
   "source": [
    "Show the type of the Dataframe"
   ]
  },
  {
   "cell_type": "code",
   "execution_count": 18,
   "id": "1d920e58",
   "metadata": {},
   "outputs": [
    {
     "data": {
      "text/plain": [
       "pyspark.sql.dataframe.DataFrame"
      ]
     },
     "execution_count": 18,
     "metadata": {},
     "output_type": "execute_result"
    }
   ],
   "source": [
    "type(spot_onlyDF)"
   ]
  },
  {
   "cell_type": "markdown",
   "id": "a4bbc9c0",
   "metadata": {},
   "source": [
    "Rename the columns of the Spot prices "
   ]
  },
  {
   "cell_type": "code",
   "execution_count": 19,
   "id": "e27794db",
   "metadata": {},
   "outputs": [],
   "source": [
    "spot=spot_onlyDF.withColumn(\"SPOT\", col(\"value\")).select(\"datetime\", \"SPOT\")"
   ]
  },
  {
   "cell_type": "code",
   "execution_count": 20,
   "id": "d44a6232",
   "metadata": {},
   "outputs": [
    {
     "name": "stdout",
     "output_type": "stream",
     "text": [
      "+--------------------+------+\n",
      "|            datetime|  SPOT|\n",
      "+--------------------+------+\n",
      "|2022-01-01T00:00:...|145.86|\n",
      "|2022-01-01T01:00:...| 114.9|\n",
      "|2022-01-01T02:00:...|113.87|\n",
      "|2022-01-01T03:00:...|  97.8|\n",
      "+--------------------+------+\n",
      "\n"
     ]
    }
   ],
   "source": [
    "spot.limit(4).show()"
   ]
  },
  {
   "cell_type": "markdown",
   "id": "3930ccb9",
   "metadata": {},
   "source": [
    "Drop duplicates of the spot table "
   ]
  },
  {
   "cell_type": "code",
   "execution_count": 21,
   "id": "042ab3ed",
   "metadata": {},
   "outputs": [],
   "source": [
    "spot = spot.dropDuplicates()"
   ]
  },
  {
   "cell_type": "code",
   "execution_count": 22,
   "id": "4555febe",
   "metadata": {},
   "outputs": [
    {
     "name": "stdout",
     "output_type": "stream",
     "text": [
      "+--------------------+------+\n",
      "|            datetime|  SPOT|\n",
      "+--------------------+------+\n",
      "|2022-04-15T11:00:...|170.91|\n",
      "|2022-04-23T09:00:...| 72.02|\n",
      "|2022-04-08T11:00:...| 145.1|\n",
      "|2022-04-26T01:00:...|231.13|\n",
      "+--------------------+------+\n",
      "\n"
     ]
    }
   ],
   "source": [
    "spot.limit(4).show()"
   ]
  },
  {
   "cell_type": "markdown",
   "id": "7832418d",
   "metadata": {},
   "source": [
    "We will use to_date() function to convert TimestampType column to DateType column and create a new dataframe called \"pricesDF\" with the data needed from the PVPC table. In further step we will add the SPOT prices column "
   ]
  },
  {
   "cell_type": "code",
   "execution_count": 23,
   "id": "049f97c4",
   "metadata": {},
   "outputs": [],
   "source": [
    "from pyspark.sql.functions import to_date\n",
    "from pyspark.sql.functions import hour\n",
    "from pyspark.sql.functions import month\n",
    "from pyspark.sql.functions import date_format\n",
    "from pyspark.sql.functions import dayofweek\n",
    "pricesDF = pvpc_onlyDF.withColumn(\"date\",to_date(col(\"datetime\")))\\\n",
    "        .withColumn(\"month\",month(col(\"datetime\")))\\\n",
    "        .withColumn(\"hour\",hour(col(\"datetime\")))\\\n",
    "        .withColumn(\"day\",date_format(\"datetime\", 'EEEE'))\\\n",
    "        .withColumn('day_of_week',dayofweek(col(\"datetime\")))\\\n",
    "        .withColumn(\"PVPC\",col(\"value\"))\\\n",
    "        .select(\"datetime\", \"date\", \"month\",\"day\",\"day_of_week\",\"hour\", \"PVPC\")"
   ]
  },
  {
   "cell_type": "code",
   "execution_count": 24,
   "id": "f324302d",
   "metadata": {},
   "outputs": [
    {
     "data": {
      "text/plain": [
       "pyspark.sql.dataframe.DataFrame"
      ]
     },
     "execution_count": 24,
     "metadata": {},
     "output_type": "execute_result"
    }
   ],
   "source": [
    "type(pricesDF)"
   ]
  },
  {
   "cell_type": "code",
   "execution_count": 25,
   "id": "120d80fb",
   "metadata": {},
   "outputs": [
    {
     "name": "stdout",
     "output_type": "stream",
     "text": [
      "+--------------------+----------+-----+--------+-----------+----+------+\n",
      "|            datetime|      date|month|     day|day_of_week|hour|  PVPC|\n",
      "+--------------------+----------+-----+--------+-----------+----+------+\n",
      "|2022-01-01T00:00:...|2022-01-01|    1|Saturday|          7|   0|204.51|\n",
      "|2022-01-01T01:00:...|2022-01-01|    1|Saturday|          7|   1|171.35|\n",
      "|2022-01-01T02:00:...|2022-01-01|    1|Saturday|          7|   2| 172.7|\n",
      "|2022-01-01T03:00:...|2022-01-01|    1|Saturday|          7|   3|156.07|\n",
      "|2022-01-01T04:00:...|2022-01-01|    1|Saturday|          7|   4|159.08|\n",
      "+--------------------+----------+-----+--------+-----------+----+------+\n",
      "\n"
     ]
    }
   ],
   "source": [
    "pricesDF.limit(5).show()"
   ]
  },
  {
   "cell_type": "markdown",
   "id": "10446613",
   "metadata": {},
   "source": [
    "We haven't identified duplicates but just in case we drop duplicates of the pricesDF table "
   ]
  },
  {
   "cell_type": "code",
   "execution_count": 26,
   "id": "9d7a68ca",
   "metadata": {},
   "outputs": [],
   "source": [
    "pricesDF= pricesDF.dropDuplicates()"
   ]
  },
  {
   "cell_type": "code",
   "execution_count": 27,
   "id": "77c171a9",
   "metadata": {},
   "outputs": [
    {
     "name": "stderr",
     "output_type": "stream",
     "text": [
      "[Stage 43:======================================>                   (4 + 2) / 6]\r"
     ]
    },
    {
     "name": "stdout",
     "output_type": "stream",
     "text": [
      "+--------------------+----------+-----+---------+-----------+----+------+\n",
      "|            datetime|      date|month|      day|day_of_week|hour|  PVPC|\n",
      "+--------------------+----------+-----+---------+-----------+----+------+\n",
      "|2022-04-25T00:00:...|2022-04-25|    4|   Monday|          2|   0|330.01|\n",
      "|2022-04-27T11:00:...|2022-04-27|    4|Wednesday|          4|  11|335.39|\n",
      "|2022-04-05T00:00:...|2022-04-05|    4|  Tuesday|          3|   0|306.14|\n",
      "|2022-04-10T20:00:...|2022-04-10|    4|   Sunday|          1|  20|286.65|\n",
      "+--------------------+----------+-----+---------+-----------+----+------+\n",
      "\n"
     ]
    },
    {
     "name": "stderr",
     "output_type": "stream",
     "text": [
      "                                                                                \r"
     ]
    }
   ],
   "source": [
    "pricesDF.limit(4).show()"
   ]
  },
  {
   "cell_type": "markdown",
   "id": "b86cb5bd",
   "metadata": {},
   "source": [
    "<a id='2.4'></a>\n",
    "# 2.4 Join the two Dataframes "
   ]
  },
  {
   "cell_type": "markdown",
   "id": "89df9c44",
   "metadata": {},
   "source": [
    "Now, we join the DF with the SPOT prices to the one we have just created \"pricesDF\" and store it as \"prices\", our final Data Frame"
   ]
  },
  {
   "cell_type": "code",
   "execution_count": 28,
   "id": "6821a03f",
   "metadata": {},
   "outputs": [],
   "source": [
    "prices=pricesDF.join(spot,pricesDF.datetime == spot.datetime,\"inner\")\\\n",
    "        .select(\"date\", \"hour\",\"month\",\"day\",\"day_of_week\", \"PVPC\", \"SPOT\")"
   ]
  },
  {
   "cell_type": "code",
   "execution_count": 53,
   "id": "0c02ea09",
   "metadata": {},
   "outputs": [
    {
     "name": "stdout",
     "output_type": "stream",
     "text": [
      "Final DataFrame\n",
      "+----------+----+-----+---------+-----------+------+------+\n",
      "|      date|hour|month|      day|day_of_week|  PVPC|  SPOT|\n",
      "+----------+----+-----+---------+-----------+------+------+\n",
      "|2022-04-25|   0|    4|   Monday|          2|330.01|267.43|\n",
      "|2022-04-27|  11|    4|Wednesday|          4|335.39|216.74|\n",
      "|2022-04-05|   0|    4|  Tuesday|          3|306.14| 245.0|\n",
      "|2022-04-10|  20|    4|   Sunday|          1|286.65|227.91|\n",
      "+----------+----+-----+---------+-----------+------+------+\n",
      "\n"
     ]
    }
   ],
   "source": [
    "print('Final DataFrame')\n",
    "prices.limit(4).show()"
   ]
  },
  {
   "cell_type": "markdown",
   "id": "b2e66559",
   "metadata": {},
   "source": [
    "<a id='3'></a>\n",
    "## 3. Data set metadata analysis\n",
    "### Display final schema and size of the DataFrame"
   ]
  },
  {
   "cell_type": "code",
   "execution_count": 30,
   "id": "aecd2497",
   "metadata": {},
   "outputs": [
    {
     "name": "stdout",
     "output_type": "stream",
     "text": [
      "root\n",
      " |-- date: date (nullable = true)\n",
      " |-- hour: integer (nullable = true)\n",
      " |-- month: integer (nullable = true)\n",
      " |-- day: string (nullable = true)\n",
      " |-- day_of_week: integer (nullable = true)\n",
      " |-- PVPC: double (nullable = true)\n",
      " |-- SPOT: double (nullable = true)\n",
      "\n"
     ]
    },
    {
     "name": "stderr",
     "output_type": "stream",
     "text": [
      "                                                                                \r"
     ]
    },
    {
     "data": {
      "text/markdown": [
       "This DataFrame has **4343 rows**."
      ],
      "text/plain": [
       "<IPython.core.display.Markdown object>"
      ]
     },
     "metadata": {},
     "output_type": "display_data"
    }
   ],
   "source": [
    "from IPython.display import display, Markdown\n",
    "prices.printSchema()\n",
    "display(Markdown(\"This DataFrame has **%d rows**.\" % prices.count()))"
   ]
  },
  {
   "cell_type": "code",
   "execution_count": 31,
   "id": "7dbc7d2a",
   "metadata": {},
   "outputs": [
    {
     "data": {
      "text/plain": [
       "pyspark.sql.dataframe.DataFrame"
      ]
     },
     "execution_count": 31,
     "metadata": {},
     "output_type": "execute_result"
    }
   ],
   "source": [
    "type(prices)"
   ]
  },
  {
   "cell_type": "markdown",
   "id": "8bcf47b2",
   "metadata": {},
   "source": [
    "### Checking for NULL and NA values "
   ]
  },
  {
   "cell_type": "code",
   "execution_count": 32,
   "id": "fc3587d7",
   "metadata": {},
   "outputs": [
    {
     "name": "stderr",
     "output_type": "stream",
     "text": [
      "[Stage 68:=============================>                            (3 + 2) / 6]\r"
     ]
    },
    {
     "name": "stdout",
     "output_type": "stream",
     "text": [
      "+----+----+\n",
      "|PVPC|SPOT|\n",
      "+----+----+\n",
      "|   0|   0|\n",
      "+----+----+\n",
      "\n"
     ]
    },
    {
     "name": "stderr",
     "output_type": "stream",
     "text": [
      "                                                                                \r"
     ]
    }
   ],
   "source": [
    "from pyspark.sql.functions import isnan, when, count\n",
    "prices.select([count(when(isnan(col(c)), c)).alias(c) for c in[\"PVPC\", \"SPOT\"]]).show()"
   ]
  },
  {
   "cell_type": "markdown",
   "id": "96e06a8d",
   "metadata": {},
   "source": [
    "### Checking for Distinct values "
   ]
  },
  {
   "cell_type": "code",
   "execution_count": 33,
   "id": "ab2aa1e9",
   "metadata": {},
   "outputs": [
    {
     "name": "stdout",
     "output_type": "stream",
     "text": [
      "Checking amount of distinct values in columns Year, Month, DayofMonth and DayOfWeek:\n"
     ]
    },
    {
     "name": "stderr",
     "output_type": "stream",
     "text": [
      "                                                                                \r"
     ]
    },
    {
     "name": "stdout",
     "output_type": "stream",
     "text": [
      "+----+-----+---+-----------+\n",
      "|hour|month|day|day_of_week|\n",
      "+----+-----+---+-----------+\n",
      "|  24|    6|  7|          7|\n",
      "+----+-----+---+-----------+\n",
      "\n"
     ]
    }
   ],
   "source": [
    "from pyspark.sql.functions import countDistinct\n",
    "print(\"Checking amount of distinct values in columns Year, Month, DayofMonth and DayOfWeek:\")\n",
    "prices.select([countDistinct(c).alias(c) for c in [ \"hour\",\"month\",\"day\",\"day_of_week\"]]).show()"
   ]
  },
  {
   "cell_type": "markdown",
   "id": "82d8796f",
   "metadata": {},
   "source": [
    "<a id='4'></a>\n",
    "## 4. Columns groups basic profiling to better understand our data set"
   ]
  },
  {
   "cell_type": "code",
   "execution_count": 34,
   "id": "0648d3a0",
   "metadata": {},
   "outputs": [
    {
     "name": "stderr",
     "output_type": "stream",
     "text": [
      "                                                                                \r"
     ]
    },
    {
     "name": "stdout",
     "output_type": "stream",
     "text": [
      "+-------+-----------------+------------------+---------+-----------------+------------------+------------------+\n",
      "|summary|             hour|             month|      day|      day_of_week|              PVPC|              SPOT|\n",
      "+-------+-----------------+------------------+---------+-----------------+------------------+------------------+\n",
      "|  count|             4343|              4343|     4343|             4343|              4343|              4343|\n",
      "|   mean|11.50218742804513|3.5084043288049735|     null|3.989638498733594|296.89882109141115|205.94700667741236|\n",
      "| stddev|6.922279087878654|1.7103367455121121|     null|1.999915574706061| 90.28259492644317| 67.66606348942214|\n",
      "|    min|                0|                 1|   Friday|                1|             25.19|              1.03|\n",
      "|    25%|                6|                 2|     null|                2|            244.39|            170.57|\n",
      "|    50%|               12|                 4|     null|                4|            286.32|            201.56|\n",
      "|    75%|               18|                 5|     null|                6|            338.68|            233.59|\n",
      "|    max|               23|                 6|Wednesday|                7|            954.01|             700.0|\n",
      "+-------+-----------------+------------------+---------+-----------------+------------------+------------------+\n",
      "\n"
     ]
    }
   ],
   "source": [
    "prices.summary().show()"
   ]
  },
  {
   "cell_type": "code",
   "execution_count": 35,
   "id": "f0e23f38",
   "metadata": {},
   "outputs": [
    {
     "name": "stdout",
     "output_type": "stream",
     "text": [
      "2022-S1 PVPC and SPOT prices\n"
     ]
    },
    {
     "name": "stderr",
     "output_type": "stream",
     "text": [
      "                                                                                \r"
     ]
    },
    {
     "data": {
      "image/png": "[encoded data removed]",
      "text/plain": [
       "<Figure size 432x288 with 1 Axes>"
      ]
     },
     "metadata": {
      "needs_background": "light"
     },
     "output_type": "display_data"
    }
   ],
   "source": [
    "import pandas as pd\n",
    "from matplotlib import pyplot as plt\n",
    "print('2022-S1 PVPC and SPOT prices')\n",
    "pdf = (\n",
    "    prices.select(\n",
    "        \"date\",\n",
    "        \"PVPC\"\n",
    "    )\n",
    "    .orderBy(\"day\")\n",
    "    .toPandas()\n",
    ")\n",
    "pdf2 = (\n",
    "    prices.select(\n",
    "        \"date\",\n",
    "        \"SPOT\"\n",
    "    )\n",
    "    .orderBy(\"date\")\n",
    "    .toPandas()\n",
    ")\n",
    "ax = pdf.plot(x='date', y='PVPC', color='red')\n",
    "pdf2.plot(ax=ax, x='date', y='SPOT', color='blue')\n",
    "plt.xticks(rotation=90)\n",
    "plt.show()"
   ]
  },
  {
   "cell_type": "markdown",
   "id": "af0c4f1b",
   "metadata": {},
   "source": [
    "<a id='5'></a>\n",
    "## 5.Answers to business questions\n",
    "<a id='5.1'></a>\n",
    "### 5.1. New features for analysis: Daily Max, Min, Avg and Spread \n",
    "In order to perform the business questions analysis, we obtain and add columns with Max, Min and Spread for each day"
   ]
  },
  {
   "cell_type": "code",
   "execution_count": 36,
   "id": "2e0e3f5b",
   "metadata": {
    "scrolled": true
   },
   "outputs": [],
   "source": [
    "daily_prices=prices.groupBy(\"date\").agg(avg('PVPC').alias('PVPC_AVG'), \n",
    "                                        max(\"PVPC\").alias('PVPC_MAX'),\n",
    "                                        min(\"PVPC\").alias('PVPC_MIN'), \n",
    "                                        (max(\"PVPC\")-min(\"PVPC\")).alias(\"PVPC_spread\"),\\\n",
    "                                        avg('SPOT').alias('SPOT_AVG'),\n",
    "                                        max(\"SPOT\").alias('SPOT_MAX'), \n",
    "                                        min(\"SPOT\").alias('SPOT_MIN'), \n",
    "                                        (max(\"SPOT\")-min(\"SPOT\")).alias(\"SPOT_spread\")).orderBy(\"date\")"
   ]
  },
  {
   "cell_type": "code",
   "execution_count": 37,
   "id": "220fc5ec",
   "metadata": {},
   "outputs": [
    {
     "name": "stderr",
     "output_type": "stream",
     "text": [
      "[Stage 121:===================>                                     (2 + 2) / 6]\r"
     ]
    },
    {
     "name": "stdout",
     "output_type": "stream",
     "text": [
      "+----------+------------------+--------+--------+------------------+------------------+--------+--------+------------------+\n",
      "|      date|          PVPC_AVG|PVPC_MAX|PVPC_MIN|       PVPC_spread|          SPOT_AVG|SPOT_MAX|SPOT_MIN|       SPOT_spread|\n",
      "+----------+------------------+--------+--------+------------------+------------------+--------+--------+------------------+\n",
      "|2022-01-01|178.27291666666665|  248.88|  118.96|129.92000000000002|122.62916666666668|  190.81|   70.05|            120.76|\n",
      "|2022-01-02|187.08333333333334|  268.11|  141.13|126.98000000000002| 136.9683333333333|   209.1|   103.7|105.39999999999999|\n",
      "|2022-01-03|         236.62625|  326.48|  164.71|            161.77| 150.4983333333333|  189.26|  100.36| 88.89999999999999|\n",
      "|2022-01-04|239.99208333333334|  332.83|  152.68|180.14999999999998| 152.1454166666667|   190.0|   105.0|              85.0|\n",
      "|2022-01-05|272.31749999999994|  408.58|  114.73|293.84999999999997|180.20000000000002|  250.34|   75.38|            174.96|\n",
      "|2022-01-06| 276.8079166666667|  352.09|  235.25|116.83999999999997|212.97916666666663|  278.36|   170.1|108.26000000000002|\n",
      "|2022-01-07|317.19958333333335|  422.83|   225.3|197.52999999999997|215.85583333333332|   260.0|   162.8| 97.19999999999999|\n",
      "|2022-01-08| 267.5404166666666|  347.83|  199.53|148.29999999999998|203.44624999999996|  270.02|  147.94|122.07999999999998|\n",
      "|2022-01-09|168.47249999999997|  306.97|   36.35|            270.62|119.24374999999998|   240.0|    14.0|             226.0|\n",
      "|2022-01-10| 319.3666666666666|  464.32|  220.69|            243.63|217.26458333333338|  294.98|   158.7|136.28000000000003|\n",
      "+----------+------------------+--------+--------+------------------+------------------+--------+--------+------------------+\n",
      "\n"
     ]
    },
    {
     "name": "stderr",
     "output_type": "stream",
     "text": [
      "                                                                                \r"
     ]
    }
   ],
   "source": [
    "daily_prices.limit(10).show()"
   ]
  },
  {
   "cell_type": "code",
   "execution_count": 38,
   "id": "c6f5259e",
   "metadata": {},
   "outputs": [
    {
     "name": "stderr",
     "output_type": "stream",
     "text": [
      "                                                                                \r"
     ]
    },
    {
     "data": {
      "text/html": [
       "<div>\n",
       "<style scoped>\n",
       "    .dataframe tbody tr th:only-of-type {\n",
       "        vertical-align: middle;\n",
       "    }\n",
       "\n",
       "    .dataframe tbody tr th {\n",
       "        vertical-align: top;\n",
       "    }\n",
       "\n",
       "    .dataframe thead th {\n",
       "        text-align: right;\n",
       "    }\n",
       "</style>\n",
       "<table border=\"1\" class=\"dataframe\">\n",
       "  <thead>\n",
       "    <tr style=\"text-align: right;\">\n",
       "      <th></th>\n",
       "      <th>date</th>\n",
       "      <th>PVPC_AVG</th>\n",
       "      <th>PVPC_MAX</th>\n",
       "      <th>PVPC_MIN</th>\n",
       "      <th>PVPC_spread</th>\n",
       "      <th>SPOT_AVG</th>\n",
       "      <th>SPOT_MAX</th>\n",
       "      <th>SPOT_MIN</th>\n",
       "      <th>SPOT_spread</th>\n",
       "    </tr>\n",
       "  </thead>\n",
       "  <tbody>\n",
       "    <tr>\n",
       "      <th>0</th>\n",
       "      <td>2022-01-01</td>\n",
       "      <td>178.272917</td>\n",
       "      <td>248.88</td>\n",
       "      <td>118.96</td>\n",
       "      <td>129.92</td>\n",
       "      <td>122.629167</td>\n",
       "      <td>190.81</td>\n",
       "      <td>70.05</td>\n",
       "      <td>120.76</td>\n",
       "    </tr>\n",
       "    <tr>\n",
       "      <th>1</th>\n",
       "      <td>2022-01-02</td>\n",
       "      <td>187.083333</td>\n",
       "      <td>268.11</td>\n",
       "      <td>141.13</td>\n",
       "      <td>126.98</td>\n",
       "      <td>136.968333</td>\n",
       "      <td>209.10</td>\n",
       "      <td>103.70</td>\n",
       "      <td>105.40</td>\n",
       "    </tr>\n",
       "    <tr>\n",
       "      <th>2</th>\n",
       "      <td>2022-01-03</td>\n",
       "      <td>236.626250</td>\n",
       "      <td>326.48</td>\n",
       "      <td>164.71</td>\n",
       "      <td>161.77</td>\n",
       "      <td>150.498333</td>\n",
       "      <td>189.26</td>\n",
       "      <td>100.36</td>\n",
       "      <td>88.90</td>\n",
       "    </tr>\n",
       "    <tr>\n",
       "      <th>3</th>\n",
       "      <td>2022-01-04</td>\n",
       "      <td>239.992083</td>\n",
       "      <td>332.83</td>\n",
       "      <td>152.68</td>\n",
       "      <td>180.15</td>\n",
       "      <td>152.145417</td>\n",
       "      <td>190.00</td>\n",
       "      <td>105.00</td>\n",
       "      <td>85.00</td>\n",
       "    </tr>\n",
       "    <tr>\n",
       "      <th>4</th>\n",
       "      <td>2022-01-05</td>\n",
       "      <td>272.317500</td>\n",
       "      <td>408.58</td>\n",
       "      <td>114.73</td>\n",
       "      <td>293.85</td>\n",
       "      <td>180.200000</td>\n",
       "      <td>250.34</td>\n",
       "      <td>75.38</td>\n",
       "      <td>174.96</td>\n",
       "    </tr>\n",
       "    <tr>\n",
       "      <th>...</th>\n",
       "      <td>...</td>\n",
       "      <td>...</td>\n",
       "      <td>...</td>\n",
       "      <td>...</td>\n",
       "      <td>...</td>\n",
       "      <td>...</td>\n",
       "      <td>...</td>\n",
       "      <td>...</td>\n",
       "      <td>...</td>\n",
       "    </tr>\n",
       "    <tr>\n",
       "      <th>176</th>\n",
       "      <td>2022-06-26</td>\n",
       "      <td>229.921667</td>\n",
       "      <td>310.77</td>\n",
       "      <td>143.11</td>\n",
       "      <td>167.66</td>\n",
       "      <td>117.942500</td>\n",
       "      <td>153.21</td>\n",
       "      <td>74.25</td>\n",
       "      <td>78.96</td>\n",
       "    </tr>\n",
       "    <tr>\n",
       "      <th>177</th>\n",
       "      <td>2022-06-27</td>\n",
       "      <td>280.699167</td>\n",
       "      <td>368.86</td>\n",
       "      <td>237.66</td>\n",
       "      <td>131.20</td>\n",
       "      <td>143.270000</td>\n",
       "      <td>181.00</td>\n",
       "      <td>115.25</td>\n",
       "      <td>65.75</td>\n",
       "    </tr>\n",
       "    <tr>\n",
       "      <th>178</th>\n",
       "      <td>2022-06-28</td>\n",
       "      <td>352.515833</td>\n",
       "      <td>418.89</td>\n",
       "      <td>304.93</td>\n",
       "      <td>113.96</td>\n",
       "      <td>144.664167</td>\n",
       "      <td>171.09</td>\n",
       "      <td>131.20</td>\n",
       "      <td>39.89</td>\n",
       "    </tr>\n",
       "    <tr>\n",
       "      <th>179</th>\n",
       "      <td>2022-06-29</td>\n",
       "      <td>306.202083</td>\n",
       "      <td>356.09</td>\n",
       "      <td>219.86</td>\n",
       "      <td>136.23</td>\n",
       "      <td>132.740000</td>\n",
       "      <td>172.28</td>\n",
       "      <td>92.07</td>\n",
       "      <td>80.21</td>\n",
       "    </tr>\n",
       "    <tr>\n",
       "      <th>180</th>\n",
       "      <td>2022-06-30</td>\n",
       "      <td>283.605833</td>\n",
       "      <td>356.92</td>\n",
       "      <td>213.33</td>\n",
       "      <td>143.59</td>\n",
       "      <td>132.132500</td>\n",
       "      <td>158.60</td>\n",
       "      <td>99.36</td>\n",
       "      <td>59.24</td>\n",
       "    </tr>\n",
       "  </tbody>\n",
       "</table>\n",
       "<p>181 rows × 9 columns</p>\n",
       "</div>"
      ],
      "text/plain": [
       "           date    PVPC_AVG  PVPC_MAX  PVPC_MIN  PVPC_spread    SPOT_AVG  \\\n",
       "0    2022-01-01  178.272917    248.88    118.96       129.92  122.629167   \n",
       "1    2022-01-02  187.083333    268.11    141.13       126.98  136.968333   \n",
       "2    2022-01-03  236.626250    326.48    164.71       161.77  150.498333   \n",
       "3    2022-01-04  239.992083    332.83    152.68       180.15  152.145417   \n",
       "4    2022-01-05  272.317500    408.58    114.73       293.85  180.200000   \n",
       "..          ...         ...       ...       ...          ...         ...   \n",
       "176  2022-06-26  229.921667    310.77    143.11       167.66  117.942500   \n",
       "177  2022-06-27  280.699167    368.86    237.66       131.20  143.270000   \n",
       "178  2022-06-28  352.515833    418.89    304.93       113.96  144.664167   \n",
       "179  2022-06-29  306.202083    356.09    219.86       136.23  132.740000   \n",
       "180  2022-06-30  283.605833    356.92    213.33       143.59  132.132500   \n",
       "\n",
       "     SPOT_MAX  SPOT_MIN  SPOT_spread  \n",
       "0      190.81     70.05       120.76  \n",
       "1      209.10    103.70       105.40  \n",
       "2      189.26    100.36        88.90  \n",
       "3      190.00    105.00        85.00  \n",
       "4      250.34     75.38       174.96  \n",
       "..        ...       ...          ...  \n",
       "176    153.21     74.25        78.96  \n",
       "177    181.00    115.25        65.75  \n",
       "178    171.09    131.20        39.89  \n",
       "179    172.28     92.07        80.21  \n",
       "180    158.60     99.36        59.24  \n",
       "\n",
       "[181 rows x 9 columns]"
      ]
     },
     "execution_count": 38,
     "metadata": {},
     "output_type": "execute_result"
    }
   ],
   "source": [
    "daily_prices.toPandas()"
   ]
  },
  {
   "cell_type": "code",
   "execution_count": 39,
   "id": "07553bd5",
   "metadata": {},
   "outputs": [
    {
     "name": "stdout",
     "output_type": "stream",
     "text": [
      "Daily MAX and MIN PVPC Prices\n"
     ]
    },
    {
     "name": "stderr",
     "output_type": "stream",
     "text": [
      "                                                                                \r"
     ]
    },
    {
     "data": {
      "image/png": "[encoded data removed]",
      "text/plain": [
       "<Figure size 432x288 with 1 Axes>"
      ]
     },
     "metadata": {
      "needs_background": "light"
     },
     "output_type": "display_data"
    }
   ],
   "source": [
    "import pandas as pd\n",
    "from matplotlib import pyplot as plt\n",
    "print('Daily MAX and MIN PVPC Prices')\n",
    "pdf = (\n",
    "    daily_prices.select(\n",
    "        \"date\",\n",
    "        \"PVPC_MAX\"\n",
    "    )\n",
    "    .orderBy(\"date\")\n",
    "    .toPandas()\n",
    ")\n",
    "pdf2 = (\n",
    "    daily_prices.select(\n",
    "        \"date\",\n",
    "        \"PVPC_MIN\"\n",
    "    )\n",
    "    .orderBy(\"date\")\n",
    "    .toPandas()\n",
    ")\n",
    "ax = pdf.plot(x='date', y='PVPC_MAX', color='red')\n",
    "pdf2.plot(ax=ax, x='date', y='PVPC_MIN', color='pink')\n",
    "plt.xticks(rotation=90)\n",
    "plt.show()"
   ]
  },
  {
   "cell_type": "code",
   "execution_count": 40,
   "id": "f0f59ae4",
   "metadata": {},
   "outputs": [
    {
     "name": "stdout",
     "output_type": "stream",
     "text": [
      "Daily MAX and MIN SPOT Prices\n"
     ]
    },
    {
     "name": "stderr",
     "output_type": "stream",
     "text": [
      "                                                                                \r"
     ]
    },
    {
     "data": {
      "image/png": "[encoded data removed]",
      "text/plain": [
       "<Figure size 432x288 with 1 Axes>"
      ]
     },
     "metadata": {
      "needs_background": "light"
     },
     "output_type": "display_data"
    }
   ],
   "source": [
    "import pandas as pd\n",
    "from matplotlib import pyplot as plt\n",
    "print('Daily MAX and MIN SPOT Prices')\n",
    "pdf = (\n",
    "    daily_prices.select(\n",
    "        \"date\",\n",
    "        \"SPOT_MAX\"\n",
    "    )\n",
    "    .orderBy(\"date\")\n",
    "    .toPandas()\n",
    ")\n",
    "pdf2 = (\n",
    "    daily_prices.select(\n",
    "        \"date\",\n",
    "        \"SPOT_MIN\"\n",
    "    )\n",
    "    .orderBy(\"date\")\n",
    "    .toPandas()\n",
    ")\n",
    "ax = pdf.plot(x='date', y='SPOT_MAX', color='blue')\n",
    "pdf2.plot(ax=ax, x='date', y='SPOT_MIN', color='green')\n",
    "plt.xticks(rotation=90)\n",
    "plt.show()"
   ]
  },
  {
   "cell_type": "code",
   "execution_count": 41,
   "id": "6921acd7",
   "metadata": {},
   "outputs": [
    {
     "name": "stdout",
     "output_type": "stream",
     "text": [
      "Daily Spreads of SPOT and PVPC\n"
     ]
    },
    {
     "name": "stderr",
     "output_type": "stream",
     "text": [
      "                                                                                \r"
     ]
    },
    {
     "data": {
      "image/png": "[encoded data removed]",
      "text/plain": [
       "<Figure size 432x288 with 1 Axes>"
      ]
     },
     "metadata": {
      "needs_background": "light"
     },
     "output_type": "display_data"
    }
   ],
   "source": [
    "import pandas as pd\n",
    "from matplotlib import pyplot as plt\n",
    "print('Daily Spreads of SPOT and PVPC')\n",
    "pdf = (\n",
    "    daily_prices.select(\n",
    "        \"date\",\n",
    "        \"SPOT_spread\"\n",
    "    )\n",
    "    .orderBy(\"date\")\n",
    "    .toPandas()\n",
    ")\n",
    "pdf2 = (\n",
    "    daily_prices.select(\n",
    "        \"date\",\n",
    "        \"PVPC_spread\"\n",
    "    )\n",
    "    .orderBy(\"date\")\n",
    "    .toPandas()\n",
    ")\n",
    "ax = pdf.plot(x='date', y='SPOT_spread', color='blue')\n",
    "pdf2.plot(ax=ax, x='date', y='PVPC_spread', color='red')\n",
    "plt.xticks(rotation=90)\n",
    "plt.show()"
   ]
  },
  {
   "cell_type": "markdown",
   "id": "762124e9",
   "metadata": {},
   "source": [
    "<a id='5.2'></a>\n",
    "### 5.2. Hourly prices behaviour analysis"
   ]
  },
  {
   "cell_type": "code",
   "execution_count": 42,
   "id": "3ac12802",
   "metadata": {},
   "outputs": [],
   "source": [
    "hour_prices=prices.groupBy(\"hour\").agg(avg('PVPC').alias('PVPC_AVG'), \n",
    "                                        max(\"PVPC\").alias('PVPC_MAX'), \n",
    "                                        min(\"PVPC\").alias('PVPC_MIN'), \n",
    "                                        (max(\"PVPC\")-min(\"PVPC\")).alias(\"PVPC_spread\"),\\\n",
    "                                        avg('SPOT').alias('SPOT_AVG'),\n",
    "                                        max(\"SPOT\").alias('SPOT_MAX'), \n",
    "                                        min(\"SPOT\").alias('SPOT_MIN'), \n",
    "                                        (max(\"SPOT\")-min(\"SPOT\")).alias(\"SPOT_spread\")).orderBy(\"hour\")"
   ]
  },
  {
   "cell_type": "code",
   "execution_count": 43,
   "id": "cdc5b32b",
   "metadata": {},
   "outputs": [
    {
     "data": {
      "text/html": [
       "<div>\n",
       "<style scoped>\n",
       "    .dataframe tbody tr th:only-of-type {\n",
       "        vertical-align: middle;\n",
       "    }\n",
       "\n",
       "    .dataframe tbody tr th {\n",
       "        vertical-align: top;\n",
       "    }\n",
       "\n",
       "    .dataframe thead th {\n",
       "        text-align: right;\n",
       "    }\n",
       "</style>\n",
       "<table border=\"1\" class=\"dataframe\">\n",
       "  <thead>\n",
       "    <tr style=\"text-align: right;\">\n",
       "      <th></th>\n",
       "      <th>hour</th>\n",
       "      <th>PVPC_AVG</th>\n",
       "      <th>PVPC_MAX</th>\n",
       "      <th>PVPC_MIN</th>\n",
       "      <th>PVPC_spread</th>\n",
       "      <th>SPOT_AVG</th>\n",
       "      <th>SPOT_MAX</th>\n",
       "      <th>SPOT_MIN</th>\n",
       "      <th>SPOT_spread</th>\n",
       "    </tr>\n",
       "  </thead>\n",
       "  <tbody>\n",
       "    <tr>\n",
       "      <th>0</th>\n",
       "      <td>0</td>\n",
       "      <td>284.883315</td>\n",
       "      <td>641.16</td>\n",
       "      <td>151.22</td>\n",
       "      <td>489.94</td>\n",
       "      <td>215.219116</td>\n",
       "      <td>510.26</td>\n",
       "      <td>95.90</td>\n",
       "      <td>414.36</td>\n",
       "    </tr>\n",
       "    <tr>\n",
       "      <th>1</th>\n",
       "      <td>1</td>\n",
       "      <td>273.228564</td>\n",
       "      <td>577.89</td>\n",
       "      <td>139.61</td>\n",
       "      <td>438.28</td>\n",
       "      <td>201.307072</td>\n",
       "      <td>450.01</td>\n",
       "      <td>81.00</td>\n",
       "      <td>369.01</td>\n",
       "    </tr>\n",
       "    <tr>\n",
       "      <th>2</th>\n",
       "      <td>2</td>\n",
       "      <td>267.204389</td>\n",
       "      <td>588.29</td>\n",
       "      <td>122.50</td>\n",
       "      <td>465.79</td>\n",
       "      <td>193.454722</td>\n",
       "      <td>449.50</td>\n",
       "      <td>80.11</td>\n",
       "      <td>369.39</td>\n",
       "    </tr>\n",
       "    <tr>\n",
       "      <th>3</th>\n",
       "      <td>3</td>\n",
       "      <td>262.060166</td>\n",
       "      <td>561.63</td>\n",
       "      <td>100.83</td>\n",
       "      <td>460.80</td>\n",
       "      <td>187.483702</td>\n",
       "      <td>424.88</td>\n",
       "      <td>55.46</td>\n",
       "      <td>369.42</td>\n",
       "    </tr>\n",
       "    <tr>\n",
       "      <th>4</th>\n",
       "      <td>4</td>\n",
       "      <td>260.653923</td>\n",
       "      <td>567.05</td>\n",
       "      <td>90.10</td>\n",
       "      <td>476.95</td>\n",
       "      <td>185.832155</td>\n",
       "      <td>429.89</td>\n",
       "      <td>45.82</td>\n",
       "      <td>384.07</td>\n",
       "    </tr>\n",
       "    <tr>\n",
       "      <th>5</th>\n",
       "      <td>5</td>\n",
       "      <td>267.601768</td>\n",
       "      <td>579.88</td>\n",
       "      <td>94.50</td>\n",
       "      <td>485.38</td>\n",
       "      <td>192.627182</td>\n",
       "      <td>449.60</td>\n",
       "      <td>48.50</td>\n",
       "      <td>401.10</td>\n",
       "    </tr>\n",
       "    <tr>\n",
       "      <th>6</th>\n",
       "      <td>6</td>\n",
       "      <td>283.343204</td>\n",
       "      <td>696.85</td>\n",
       "      <td>123.58</td>\n",
       "      <td>573.27</td>\n",
       "      <td>209.213867</td>\n",
       "      <td>550.00</td>\n",
       "      <td>74.29</td>\n",
       "      <td>475.71</td>\n",
       "    </tr>\n",
       "    <tr>\n",
       "      <th>7</th>\n",
       "      <td>7</td>\n",
       "      <td>298.544586</td>\n",
       "      <td>744.25</td>\n",
       "      <td>140.44</td>\n",
       "      <td>603.81</td>\n",
       "      <td>226.412928</td>\n",
       "      <td>600.00</td>\n",
       "      <td>89.78</td>\n",
       "      <td>510.22</td>\n",
       "    </tr>\n",
       "    <tr>\n",
       "      <th>8</th>\n",
       "      <td>8</td>\n",
       "      <td>318.007072</td>\n",
       "      <td>816.67</td>\n",
       "      <td>127.26</td>\n",
       "      <td>689.41</td>\n",
       "      <td>228.956519</td>\n",
       "      <td>645.00</td>\n",
       "      <td>86.69</td>\n",
       "      <td>558.31</td>\n",
       "    </tr>\n",
       "    <tr>\n",
       "      <th>9</th>\n",
       "      <td>9</td>\n",
       "      <td>302.010773</td>\n",
       "      <td>755.51</td>\n",
       "      <td>106.91</td>\n",
       "      <td>648.60</td>\n",
       "      <td>220.461050</td>\n",
       "      <td>601.00</td>\n",
       "      <td>70.05</td>\n",
       "      <td>530.95</td>\n",
       "    </tr>\n",
       "    <tr>\n",
       "      <th>10</th>\n",
       "      <td>10</td>\n",
       "      <td>325.655193</td>\n",
       "      <td>799.08</td>\n",
       "      <td>86.37</td>\n",
       "      <td>712.71</td>\n",
       "      <td>207.905746</td>\n",
       "      <td>582.00</td>\n",
       "      <td>55.39</td>\n",
       "      <td>526.61</td>\n",
       "    </tr>\n",
       "    <tr>\n",
       "      <th>11</th>\n",
       "      <td>11</td>\n",
       "      <td>310.200994</td>\n",
       "      <td>755.51</td>\n",
       "      <td>28.91</td>\n",
       "      <td>726.60</td>\n",
       "      <td>195.728840</td>\n",
       "      <td>548.09</td>\n",
       "      <td>4.79</td>\n",
       "      <td>543.30</td>\n",
       "    </tr>\n",
       "    <tr>\n",
       "      <th>12</th>\n",
       "      <td>12</td>\n",
       "      <td>304.213757</td>\n",
       "      <td>716.22</td>\n",
       "      <td>26.72</td>\n",
       "      <td>689.50</td>\n",
       "      <td>190.773094</td>\n",
       "      <td>515.40</td>\n",
       "      <td>3.70</td>\n",
       "      <td>511.70</td>\n",
       "    </tr>\n",
       "    <tr>\n",
       "      <th>13</th>\n",
       "      <td>13</td>\n",
       "      <td>296.903260</td>\n",
       "      <td>650.36</td>\n",
       "      <td>26.66</td>\n",
       "      <td>623.70</td>\n",
       "      <td>185.033149</td>\n",
       "      <td>460.00</td>\n",
       "      <td>3.70</td>\n",
       "      <td>456.30</td>\n",
       "    </tr>\n",
       "    <tr>\n",
       "      <th>14</th>\n",
       "      <td>14</td>\n",
       "      <td>248.708619</td>\n",
       "      <td>571.61</td>\n",
       "      <td>26.99</td>\n",
       "      <td>544.62</td>\n",
       "      <td>178.046188</td>\n",
       "      <td>449.90</td>\n",
       "      <td>3.70</td>\n",
       "      <td>446.20</td>\n",
       "    </tr>\n",
       "    <tr>\n",
       "      <th>15</th>\n",
       "      <td>15</td>\n",
       "      <td>245.248729</td>\n",
       "      <td>573.91</td>\n",
       "      <td>25.19</td>\n",
       "      <td>548.72</td>\n",
       "      <td>173.282818</td>\n",
       "      <td>449.60</td>\n",
       "      <td>1.03</td>\n",
       "      <td>448.57</td>\n",
       "    </tr>\n",
       "    <tr>\n",
       "      <th>16</th>\n",
       "      <td>16</td>\n",
       "      <td>250.981768</td>\n",
       "      <td>652.85</td>\n",
       "      <td>25.99</td>\n",
       "      <td>626.86</td>\n",
       "      <td>176.815083</td>\n",
       "      <td>514.31</td>\n",
       "      <td>1.03</td>\n",
       "      <td>513.28</td>\n",
       "    </tr>\n",
       "    <tr>\n",
       "      <th>17</th>\n",
       "      <td>17</td>\n",
       "      <td>268.377735</td>\n",
       "      <td>768.36</td>\n",
       "      <td>26.02</td>\n",
       "      <td>742.34</td>\n",
       "      <td>190.934751</td>\n",
       "      <td>603.08</td>\n",
       "      <td>1.03</td>\n",
       "      <td>602.05</td>\n",
       "    </tr>\n",
       "    <tr>\n",
       "      <th>18</th>\n",
       "      <td>18</td>\n",
       "      <td>332.834420</td>\n",
       "      <td>895.37</td>\n",
       "      <td>32.69</td>\n",
       "      <td>862.68</td>\n",
       "      <td>210.047017</td>\n",
       "      <td>651.00</td>\n",
       "      <td>3.70</td>\n",
       "      <td>647.30</td>\n",
       "    </tr>\n",
       "    <tr>\n",
       "      <th>19</th>\n",
       "      <td>19</td>\n",
       "      <td>356.612155</td>\n",
       "      <td>954.01</td>\n",
       "      <td>50.18</td>\n",
       "      <td>903.83</td>\n",
       "      <td>230.583978</td>\n",
       "      <td>700.00</td>\n",
       "      <td>18.94</td>\n",
       "      <td>681.06</td>\n",
       "    </tr>\n",
       "    <tr>\n",
       "      <th>20</th>\n",
       "      <td>20</td>\n",
       "      <td>373.377017</td>\n",
       "      <td>895.26</td>\n",
       "      <td>165.39</td>\n",
       "      <td>729.87</td>\n",
       "      <td>245.254199</td>\n",
       "      <td>654.91</td>\n",
       "      <td>105.60</td>\n",
       "      <td>549.31</td>\n",
       "    </tr>\n",
       "    <tr>\n",
       "      <th>21</th>\n",
       "      <td>21</td>\n",
       "      <td>372.888950</td>\n",
       "      <td>891.42</td>\n",
       "      <td>218.19</td>\n",
       "      <td>673.23</td>\n",
       "      <td>245.960055</td>\n",
       "      <td>651.00</td>\n",
       "      <td>131.20</td>\n",
       "      <td>519.80</td>\n",
       "    </tr>\n",
       "    <tr>\n",
       "      <th>22</th>\n",
       "      <td>22</td>\n",
       "      <td>319.285414</td>\n",
       "      <td>822.73</td>\n",
       "      <td>179.33</td>\n",
       "      <td>643.40</td>\n",
       "      <td>234.019945</td>\n",
       "      <td>650.00</td>\n",
       "      <td>114.11</td>\n",
       "      <td>535.89</td>\n",
       "    </tr>\n",
       "    <tr>\n",
       "      <th>23</th>\n",
       "      <td>23</td>\n",
       "      <td>302.581878</td>\n",
       "      <td>766.61</td>\n",
       "      <td>155.86</td>\n",
       "      <td>610.75</td>\n",
       "      <td>217.305967</td>\n",
       "      <td>600.00</td>\n",
       "      <td>93.02</td>\n",
       "      <td>506.98</td>\n",
       "    </tr>\n",
       "  </tbody>\n",
       "</table>\n",
       "</div>"
      ],
      "text/plain": [
       "    hour    PVPC_AVG  PVPC_MAX  PVPC_MIN  PVPC_spread    SPOT_AVG  SPOT_MAX  \\\n",
       "0      0  284.883315    641.16    151.22       489.94  215.219116    510.26   \n",
       "1      1  273.228564    577.89    139.61       438.28  201.307072    450.01   \n",
       "2      2  267.204389    588.29    122.50       465.79  193.454722    449.50   \n",
       "3      3  262.060166    561.63    100.83       460.80  187.483702    424.88   \n",
       "4      4  260.653923    567.05     90.10       476.95  185.832155    429.89   \n",
       "5      5  267.601768    579.88     94.50       485.38  192.627182    449.60   \n",
       "6      6  283.343204    696.85    123.58       573.27  209.213867    550.00   \n",
       "7      7  298.544586    744.25    140.44       603.81  226.412928    600.00   \n",
       "8      8  318.007072    816.67    127.26       689.41  228.956519    645.00   \n",
       "9      9  302.010773    755.51    106.91       648.60  220.461050    601.00   \n",
       "10    10  325.655193    799.08     86.37       712.71  207.905746    582.00   \n",
       "11    11  310.200994    755.51     28.91       726.60  195.728840    548.09   \n",
       "12    12  304.213757    716.22     26.72       689.50  190.773094    515.40   \n",
       "13    13  296.903260    650.36     26.66       623.70  185.033149    460.00   \n",
       "14    14  248.708619    571.61     26.99       544.62  178.046188    449.90   \n",
       "15    15  245.248729    573.91     25.19       548.72  173.282818    449.60   \n",
       "16    16  250.981768    652.85     25.99       626.86  176.815083    514.31   \n",
       "17    17  268.377735    768.36     26.02       742.34  190.934751    603.08   \n",
       "18    18  332.834420    895.37     32.69       862.68  210.047017    651.00   \n",
       "19    19  356.612155    954.01     50.18       903.83  230.583978    700.00   \n",
       "20    20  373.377017    895.26    165.39       729.87  245.254199    654.91   \n",
       "21    21  372.888950    891.42    218.19       673.23  245.960055    651.00   \n",
       "22    22  319.285414    822.73    179.33       643.40  234.019945    650.00   \n",
       "23    23  302.581878    766.61    155.86       610.75  217.305967    600.00   \n",
       "\n",
       "    SPOT_MIN  SPOT_spread  \n",
       "0      95.90       414.36  \n",
       "1      81.00       369.01  \n",
       "2      80.11       369.39  \n",
       "3      55.46       369.42  \n",
       "4      45.82       384.07  \n",
       "5      48.50       401.10  \n",
       "6      74.29       475.71  \n",
       "7      89.78       510.22  \n",
       "8      86.69       558.31  \n",
       "9      70.05       530.95  \n",
       "10     55.39       526.61  \n",
       "11      4.79       543.30  \n",
       "12      3.70       511.70  \n",
       "13      3.70       456.30  \n",
       "14      3.70       446.20  \n",
       "15      1.03       448.57  \n",
       "16      1.03       513.28  \n",
       "17      1.03       602.05  \n",
       "18      3.70       647.30  \n",
       "19     18.94       681.06  \n",
       "20    105.60       549.31  \n",
       "21    131.20       519.80  \n",
       "22    114.11       535.89  \n",
       "23     93.02       506.98  "
      ]
     },
     "execution_count": 43,
     "metadata": {},
     "output_type": "execute_result"
    }
   ],
   "source": [
    "hour_prices.toPandas()"
   ]
  },
  {
   "cell_type": "code",
   "execution_count": 44,
   "id": "4ba755f6",
   "metadata": {},
   "outputs": [
    {
     "name": "stdout",
     "output_type": "stream",
     "text": [
      "Spread of MAX and MIN Prices PVPC per Date\n"
     ]
    },
    {
     "name": "stderr",
     "output_type": "stream",
     "text": [
      "                                                                                \r"
     ]
    },
    {
     "data": {
      "image/png": "[encoded data removed]",
      "text/plain": [
       "<Figure size 432x288 with 1 Axes>"
      ]
     },
     "metadata": {
      "needs_background": "light"
     },
     "output_type": "display_data"
    }
   ],
   "source": [
    "import pandas as pd\n",
    "from matplotlib import pyplot as plt\n",
    "print('Spread of MAX and MIN Prices PVPC per Date')\n",
    "pdf = (\n",
    "    hour_prices.select(\n",
    "        \"hour\",\n",
    "        \"PVPC_MAX\"\n",
    "    )\n",
    "    .orderBy(\"hour\")\n",
    "    .toPandas()\n",
    ")\n",
    "pdf2 = (\n",
    "    hour_prices.select(\n",
    "        \"hour\",\n",
    "        \"PVPC_MIN\"\n",
    "    )\n",
    "    .orderBy(\"hour\")\n",
    "    .toPandas()\n",
    ")\n",
    "pdf3 = (\n",
    "    hour_prices.select(\n",
    "        \"hour\",\n",
    "        \"PVPC_AVG\"\n",
    "    )\n",
    "    .orderBy(\"hour\")\n",
    "    .toPandas()\n",
    ")\n",
    "ax = pdf.plot(x='hour', y='PVPC_MAX', color='red')\n",
    "pdf2.plot(ax=ax, x='hour', y='PVPC_MIN', color='green')\n",
    "pdf3.plot(ax=ax, x='hour', y='PVPC_AVG', color='purple')\n",
    "plt.show()"
   ]
  },
  {
   "cell_type": "markdown",
   "id": "cc630111",
   "metadata": {},
   "source": [
    "<a id='5.3'></a>\n",
    "### 5.3. Ratio of Daily Spreads \n",
    "Ratio of the Spread by severity by the SPOT Spread"
   ]
  },
  {
   "cell_type": "code",
   "execution_count": 45,
   "id": "f20ce752",
   "metadata": {
    "scrolled": true
   },
   "outputs": [
    {
     "name": "stderr",
     "output_type": "stream",
     "text": [
      "[Stage 326:===================================================> (176 + 2) / 181]\r"
     ]
    },
    {
     "name": "stdout",
     "output_type": "stream",
     "text": [
      "+-------------+---+----+\n",
      "|   SPOT_Ratio|Num|   %|\n",
      "+-------------+---+----+\n",
      "|        1.Low|  7| 3.9|\n",
      "|     2.Medium|110|60.8|\n",
      "|       3.High| 54|29.8|\n",
      "|4.Extrem High| 10| 5.5|\n",
      "+-------------+---+----+\n",
      "\n"
     ]
    },
    {
     "name": "stderr",
     "output_type": "stream",
     "text": [
      "                                                                                \r"
     ]
    }
   ],
   "source": [
    "from pyspark.sql.functions import count, round\n",
    "\n",
    "# Threshold is categorized as follows:\n",
    "#\n",
    "#   \"Low\"      - Difference of Spot spread is low <50\n",
    "#   \"Medium\"   - Medium Spot Spread (50,100)\n",
    "#   \"High\"     - High SPOT Spread (100,200)\n",
    "#   \"Extrem High\"     - Extrem High SPOT Spread (200,500)\n",
    "\n",
    "# 1. Let's enrich the DF spread severity based on our categorization\n",
    "total = daily_prices.count()\n",
    "Threshold_SPOT = daily_prices\\\n",
    "   .where(col(\"SPOT_spread\")!=0)\\\n",
    "   .withColumn(\"SPOT_Ratio\", when(col(\"SPOT_spread\")<=50,\"1.Low\")\n",
    "                               .when((col(\"SPOT_spread\")>50) & (col(\"SPOT_spread\")<=100),\"2.Medium\")\\\n",
    "                               .when((col(\"SPOT_spread\")>100) & (col(\"SPOT_spread\")<=200),\"3.High\")\\\n",
    "                               .otherwise(\"4.Extrem High\"))\\\n",
    "    .cache() # optimization to make the processing faster\n",
    "\n",
    "# 2. Ready to answer to this business question\n",
    "Threshold_SPOT.select(\"SPOT_Ratio\", \"SPOT_spread\")\\\n",
    "                     .groupBy(\"SPOT_Ratio\")\\\n",
    "                     .agg(count(\"SPOT_Ratio\").alias(\"Num\"), \\\n",
    "                          (count(\"SPOT_Ratio\")/total*100).alias(\"Ratio\"))\\\n",
    "                     .orderBy(\"SPOT_Ratio\")\\\n",
    "                     .select(\"SPOT_Ratio\",\"Num\",round(\"Ratio\",1).alias(\"%\")).show()"
   ]
  },
  {
   "cell_type": "markdown",
   "id": "f6594998",
   "metadata": {},
   "source": [
    "Ratio of the Spread by severity by the PVPC_spread"
   ]
  },
  {
   "cell_type": "code",
   "execution_count": 46,
   "id": "e11e707d",
   "metadata": {},
   "outputs": [
    {
     "name": "stderr",
     "output_type": "stream",
     "text": [
      "[Stage 353:=================================================>   (168 + 2) / 181]\r"
     ]
    },
    {
     "name": "stdout",
     "output_type": "stream",
     "text": [
      "+-------------+---+----+\n",
      "|   PVPC_Ratio|Num|   %|\n",
      "+-------------+---+----+\n",
      "|     2.Medium| 16| 8.8|\n",
      "|       3.High|133|73.5|\n",
      "|4.Extrem High| 32|17.7|\n",
      "+-------------+---+----+\n",
      "\n"
     ]
    },
    {
     "name": "stderr",
     "output_type": "stream",
     "text": [
      "                                                                                \r"
     ]
    }
   ],
   "source": [
    "from pyspark.sql.functions import count, round\n",
    "\n",
    "# Threshold is categorized as follows:\n",
    "#\n",
    "#   \"Low\"      - Difference of Spot spread is low <50\n",
    "#   \"Medium\"   - Medium Spot Spread (50,100)\n",
    "#   \"High\"     - High SPOT Spread (100,200)\n",
    "#   \"Extrem High\"     - Extrem High SPOT Spread (200,500)\n",
    "\n",
    "# 1. Let's enrich the DF spread severity based on our categorization\n",
    "total = daily_prices.count()\n",
    "Threshold_SPOT = daily_prices\\\n",
    "   .where(col(\"PVPC_spread\")!=0)\\\n",
    "   .withColumn(\"PVPC_Ratio\", when(col(\"PVPC_spread\")<=50,\"1.Low\")\n",
    "                               .when((col(\"PVPC_spread\")>50) & (col(\"PVPC_spread\")<=100),\"2.Medium\")\\\n",
    "                               .when((col(\"PVPC_spread\")>100) & (col(\"PVPC_spread\")<=200),\"3.High\")\\\n",
    "                               .otherwise(\"4.Extrem High\"))\\\n",
    "    .cache() # optimization to make the processing faster\n",
    "\n",
    "# 2. Ready to answer to this business question\n",
    "Threshold_SPOT.select(\"PVPC_Ratio\", \"PVPC_spread\")\\\n",
    "                     .groupBy(\"PVPC_Ratio\")\\\n",
    "                     .agg(count(\"PVPC_Ratio\").alias(\"Num\"), \\\n",
    "                          (count(\"PVPC_Ratio\")/total*100).alias(\"Ratio\"))\\\n",
    "                     .orderBy(\"PVPC_Ratio\")\\\n",
    "                     .select(\"PVPC_Ratio\",\"Num\",round(\"Ratio\",1).alias(\"%\")).show()"
   ]
  },
  {
   "cell_type": "markdown",
   "id": "290916ba",
   "metadata": {},
   "source": [
    "<a id='5.4'></a>\n",
    "### 5.4. Top 5 Top Days in extrem Spread"
   ]
  },
  {
   "cell_type": "markdown",
   "id": "71d38ced",
   "metadata": {},
   "source": [
    "For the Spot price"
   ]
  },
  {
   "cell_type": "code",
   "execution_count": 47,
   "id": "ddfc2ea7",
   "metadata": {},
   "outputs": [
    {
     "name": "stderr",
     "output_type": "stream",
     "text": [
      "                                                                                \r"
     ]
    },
    {
     "name": "stdout",
     "output_type": "stream",
     "text": [
      "+----------+-----------------+--------+--------+------------------+------------------+--------+--------+------------------+\n",
      "|      date|         PVPC_AVG|PVPC_MAX|PVPC_MIN|       PVPC_spread|          SPOT_AVG|SPOT_MAX|SPOT_MIN|       SPOT_spread|\n",
      "+----------+-----------------+--------+--------+------------------+------------------+--------+--------+------------------+\n",
      "|2022-04-10|214.0070833333333|  351.01|   25.79|325.21999999999997|159.33124999999998|  282.48|    1.03|281.45000000000005|\n",
      "|2022-03-08|715.3295833333333|  954.01|  561.63|            392.38|         544.98375|   700.0|  424.88|            275.12|\n",
      "|2022-03-11|        402.89625|  593.09|  223.48|            369.61|         284.57875|  403.97|   144.8|            259.17|\n",
      "|2022-03-09|628.0179166666667|  827.93|  475.48|352.44999999999993| 472.9704166666667|   605.0|  356.74|            248.26|\n",
      "|2022-04-08|        234.38875|  382.35|   50.08|332.27000000000004|         154.69625|  252.08|     7.0|            245.08|\n",
      "+----------+-----------------+--------+--------+------------------+------------------+--------+--------+------------------+\n",
      "\n"
     ]
    }
   ],
   "source": [
    "# Import Libraries\n",
    "from pyspark.sql.functions import col\n",
    "\n",
    "# Get top n records as Row Objects\n",
    "row_list = daily_prices.orderBy(col(\"SPOT_spread\").desc()).head(5)\n",
    "\n",
    "# Convert row objects to DF\n",
    "sorted_daily_prices = spark.createDataFrame(row_list)\n",
    "\n",
    "# Display DataFrame\n",
    "sorted_daily_prices.show()"
   ]
  },
  {
   "cell_type": "markdown",
   "id": "9a72fe81",
   "metadata": {},
   "source": [
    "For PVPC price"
   ]
  },
  {
   "cell_type": "code",
   "execution_count": 48,
   "id": "a0dcfff6",
   "metadata": {},
   "outputs": [
    {
     "name": "stderr",
     "output_type": "stream",
     "text": [
      "                                                                                \r"
     ]
    },
    {
     "name": "stdout",
     "output_type": "stream",
     "text": [
      "+----------+-----------------+--------+--------+------------------+------------------+--------+--------+------------------+\n",
      "|      date|         PVPC_AVG|PVPC_MAX|PVPC_MIN|       PVPC_spread|          SPOT_AVG|SPOT_MAX|SPOT_MIN|       SPOT_spread|\n",
      "+----------+-----------------+--------+--------+------------------+------------------+--------+--------+------------------+\n",
      "|2022-03-08|715.3295833333333|  954.01|  561.63|            392.38|         544.98375|   700.0|  424.88|            275.12|\n",
      "|2022-03-11|        402.89625|  593.09|  223.48|            369.61|         284.57875|  403.97|   144.8|            259.17|\n",
      "|2022-03-09|628.0179166666667|  827.93|  475.48|352.44999999999993| 472.9704166666667|   605.0|  356.74|            248.26|\n",
      "|2022-04-08|        234.38875|  382.35|   50.08|332.27000000000004|         154.69625|  252.08|     7.0|            245.08|\n",
      "|2022-04-10|214.0070833333333|  351.01|   25.79|325.21999999999997|159.33124999999998|  282.48|    1.03|281.45000000000005|\n",
      "+----------+-----------------+--------+--------+------------------+------------------+--------+--------+------------------+\n",
      "\n"
     ]
    }
   ],
   "source": [
    "# Import Libraries\n",
    "from pyspark.sql.functions import col\n",
    "\n",
    "# Get top n records as Row Objects\n",
    "row_list = daily_prices.orderBy(col(\"PVPC_spread\").desc()).head(5)\n",
    "\n",
    "# Convert row objects to DF\n",
    "sorted_daily_prices = spark.createDataFrame(row_list)\n",
    "\n",
    "# Display DataFrame\n",
    "sorted_daily_prices.show()"
   ]
  }
 ],
 "metadata": {
  "kernelspec": {
   "display_name": "Python 3 (ipykernel)",
   "language": "python",
   "name": "python3"
  },
  "language_info": {
   "codemirror_mode": {
    "name": "ipython",
    "version": 3
   },
   "file_extension": ".py",
   "mimetype": "text/x-python",
   "name": "python",
   "nbconvert_exporter": "python",
   "pygments_lexer": "ipython3",
   "version": "3.9.2"
  }
 },
 "nbformat": 4,
 "nbformat_minor": 5
}
